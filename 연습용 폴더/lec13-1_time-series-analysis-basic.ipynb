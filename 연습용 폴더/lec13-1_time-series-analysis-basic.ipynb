{
 "cells": [
  {
   "cell_type": "markdown",
   "id": "083c4762-9b0c-413d-ac4a-7b61fb7245fd",
   "metadata": {},
   "source": [
    "# 기초데이터과학 (01분반)\n",
    "\n",
    "## 13-1. 시계열 데이터 분석 기초 (Time series analysis basic)"
   ]
  },
  {
   "cell_type": "markdown",
   "id": "4e115c6a-dcdc-4e2b-beaa-c0e6ebf57e0b",
   "metadata": {},
   "source": [
    "### Acknowledgement\n",
    "#### 이 자료는 다음 서적의 내용을 바탕으로 작성되었음\n",
    "- Do it! 데이터 분석을 위한 판다스 입문 (전면 개정판). 이지스 퍼블리싱\n",
    "- 파이썬 라이브러리를 활용한 데이터 분석 (2판). 한빛미디어"
   ]
  },
  {
   "cell_type": "markdown",
   "id": "96c9fa49-5ecd-4d2b-9c2a-13ee21e00858",
   "metadata": {},
   "source": [
    "### 시계열 데이터\n",
    "- 시간의 흐름에 따라 관측된 값으로 구성된 데이터\n",
    "- 특정 시간 간격으로 관측치가 기록되어 있음\n",
    "  - 예: 주가 데이터, 유가 데이터, 기온/습도 등의 날씨 관측 데이터, 일별 전력 소비량, 코로나19 감염자 수 데이터, 일별 항공 승객수"
   ]
  },
  {
   "cell_type": "markdown",
   "id": "07f89f37-5d8a-443b-9b7f-04fe6e2d924d",
   "metadata": {},
   "source": [
    "#### 시계열 데이터의 특징\n",
    "\n",
    "##### 시간 순서의 중요성\n",
    "- 시계열 데이터는 시간 순서가 있으며 각 데이터 포인트는 특정 시간에 발생하여 이전 및 이후 값과의 시간적 의존성이 존재함\n",
    "  - 예: 주가 데이터에서 오늘의 가격은 어제의 가격과 밀접한 관계가 있음"
   ]
  },
  {
   "cell_type": "markdown",
   "id": "16f34ddf-3b57-4728-abed-dfef71eedd62",
   "metadata": {},
   "source": [
    "##### 데이터의 패턴 \n",
    "- 시계열 데이터에는 다음과 같은 패턴이 존재할 수 있음\n",
    "- 추세(Trend)\n",
    "  - 정의: 데이터가 장기적으로 증가하거나 감소하는 경향\n",
    "  - 예: 글로벌 기온 상승 (장기적 증가), 특정 제품 판매량 감소 (장기적 감소)\n",
    "- 계절성(Seasonality)\n",
    "  - 정의: 일정 주기(년, 분기, 월)로 반복되는 변동\n",
    "  - 예: 매년 여름철 음료 판매량 증가, 전력 사용량이 하루 중 특정 시간대에 증가\n",
    "- 주기성(Cycles)\n",
    "  - 정의: 계절성과 달리 불규칙하거나 긴 주기(수 년)로 발생하는 반복(상승과 하락)\n",
    "  - 예: 경제의 경기 순환 (호황과 불황), 특정 주기의 자연 현상 (예: 태양 흑점 활동)\n",
    "- 불규칙성(Randomness)\n",
    "  - 정의: 설명되지 않는 비정상적 변동\n",
    "  - 예: 금융 시장의 갑작스러운 변동, 센서 데이터의 노이즈"
   ]
  },
  {
   "cell_type": "markdown",
   "id": "6c4dfc2d-fd69-448a-b10d-2be2abfddbd1",
   "metadata": {},
   "source": [
    "##### 자기 상관성 (Autocorrelation)\n",
    "- 시계열 데이터는 이전 값이 이후 값에 영향을 미칠 가능성이 높아 특정 시점의 데이터가 이전 시점의 데이터와 상관 관계를 가질 수 있음\n",
    "- 연속된 데이터 포인트 간의 유사도를 나타냄\n",
    "  - 예: 오늘의 날씨는 어제의 날씨와 상관성이 있음"
   ]
  },
  {
   "cell_type": "markdown",
   "id": "a34450ba-7736-4340-ba83-e5af9066b4d5",
   "metadata": {},
   "source": [
    "##### 시간 간격의 중요성\n",
    "- 시계열 데이터는 일정하거나 불규칙한 시간 간격으로 수집 될 수 있음\n",
    "  - 일정 간격: 매분, 매시간, 매일\n",
    "  - 불규칙 간격: 자연 현상 데이터 (지진 발생 시간)\n",
    "- 분석 전에 시간 간격이 일정하지 않다면 시간 간격을 맞추기 위한 리샘플링이나 보간(Interpolation)이 필요할 수 있음"
   ]
  },
  {
   "cell_type": "markdown",
   "id": "e390a2c8-c6d6-4732-a194-081071a26839",
   "metadata": {},
   "source": [
    "##### 데이터 양의 중요성\n",
    "- 시계열 데이터는 일반적으로 관측값이 많아야 패턴을 안정적으로 파악할 수 있음\n",
    "- 짧은 시계열 데이터는 추세 및 계절성을 분석하기 어려울 수 있음"
   ]
  },
  {
   "cell_type": "markdown",
   "id": "f4b13d41",
   "metadata": {},
   "source": [
    "assign을 이용하여 다중 컬럼 생성 가능"
   ]
  },
  {
   "cell_type": "markdown",
   "id": "894917b7",
   "metadata": {},
   "source": [
    ".info\n",
    ".index\n",
    "[DataFrame].setindex(\"컬럼명\") - 을 통해서 DataFrame의 인덱스를 \"컬럼명\"으로 지정.\n"
   ]
  },
  {
   "cell_type": "markdown",
   "id": "d9d1c57e",
   "metadata": {},
   "source": [
    "### 시계열 데이터 전처리\n",
    "#### 1. datetime 객체"
   ]
  },
  {
   "cell_type": "markdown",
   "id": "fb0fadd4-0c6f-449c-af5b-94682fb3377e",
   "metadata": {},
   "source": [
    "- 날짜와 시간을 처리하는 다양한 기능을 제공하는 Python 라이브러리\n",
    "- 주요 클래스\n",
    "  - datetime.date: 날짜만 포함. 연, 월, 일 날짜를 저장\n",
    "  - datetime.time: 시간만 포함. 하루의 시간을 시, 분, 초, 마이크로 초 단위로 저장\n",
    "  - datetime.datetime: 날짜와 시간을 포함한 객체\n",
    "  - datetime.timedelta: 두 datetime 객체의 시간 차이(일, 초, 마이크로 초) 표현"
   ]
  },
  {
   "cell_type": "code",
   "execution_count": 1,
   "id": "5738dfc3",
   "metadata": {},
   "outputs": [],
   "source": [
    "from datetime import datetime"
   ]
  },
  {
   "cell_type": "code",
   "execution_count": 2,
   "id": "7c187330",
   "metadata": {},
   "outputs": [
    {
     "name": "stdout",
     "output_type": "stream",
     "text": [
      "2024-11-26 12:59:23.527679\n"
     ]
    }
   ],
   "source": [
    "# now() 함수: 현재 날짜와 시간 정보 확인\n",
    "now = datetime.now()\n",
    "print(now)"
   ]
  },
  {
   "cell_type": "code",
   "execution_count": 3,
   "id": "ec37a4cb",
   "metadata": {},
   "outputs": [
    {
     "name": "stdout",
     "output_type": "stream",
     "text": [
      "2024-11-26 12:59:25.451751\n",
      "1970-01-01 00:00:00\n"
     ]
    }
   ],
   "source": [
    "t1 = datetime.now()\n",
    "\n",
    "# 특정 날짜와 시각으로 datetime 객체를 생성할 수 있음\n",
    "t2 = datetime(1970, 1, 1) # 년, 월, 일\n",
    "\n",
    "print(t1)\n",
    "print(t2)"
   ]
  },
  {
   "cell_type": "code",
   "execution_count": 4,
   "id": "626d4373",
   "metadata": {},
   "outputs": [
    {
     "name": "stdout",
     "output_type": "stream",
     "text": [
      "20053 days, 12:59:25.451751\n"
     ]
    }
   ],
   "source": [
    "# 뺄셈 연산으로 두 datetime 객체 간의 시간 간격 계산 가능\n",
    "diff = t1 - t2 \n",
    "print(diff)"
   ]
  },
  {
   "cell_type": "code",
   "execution_count": 5,
   "id": "d243f1c5",
   "metadata": {},
   "outputs": [
    {
     "name": "stdout",
     "output_type": "stream",
     "text": [
      "<class 'datetime.timedelta'>\n"
     ]
    }
   ],
   "source": [
    "print(type(diff))"
   ]
  },
  {
   "cell_type": "markdown",
   "id": "b0d406bf",
   "metadata": {},
   "source": [
    "#### 2. datetime으로 변환하기\n",
    "- pandas의 to_datetime() 함수\n",
    "  - object 형 문자열 객체를 datetime 객체로 변환할 수 있음"
   ]
  },
  {
   "cell_type": "markdown",
   "id": "4dd3c6d0",
   "metadata": {},
   "source": [
    "##### 사용 함수"
   ]
  },
  {
   "cell_type": "markdown",
   "id": "9bf513e6",
   "metadata": {},
   "source": [
    "ebola['date_dt'] = pd.to_datetime(ebola['Date'], format='%m/%d/%Y')"
   ]
  },
  {
   "cell_type": "markdown",
   "id": "08eab2f8-63d9-45f4-83dc-696ccf26dd43",
   "metadata": {},
   "source": [
    "##### 예제 데이터\n",
    "- 에볼라 바이러스 감염자 및 사망자 수 데이터"
   ]
  },
  {
   "cell_type": "code",
   "execution_count": 4,
   "id": "3cbbbfe5",
   "metadata": {},
   "outputs": [
    {
     "data": {
      "text/html": [
       "<div>\n",
       "<style scoped>\n",
       "    .dataframe tbody tr th:only-of-type {\n",
       "        vertical-align: middle;\n",
       "    }\n",
       "\n",
       "    .dataframe tbody tr th {\n",
       "        vertical-align: top;\n",
       "    }\n",
       "\n",
       "    .dataframe thead th {\n",
       "        text-align: right;\n",
       "    }\n",
       "</style>\n",
       "<table border=\"1\" class=\"dataframe\">\n",
       "  <thead>\n",
       "    <tr style=\"text-align: right;\">\n",
       "      <th></th>\n",
       "      <th>Date</th>\n",
       "      <th>Day</th>\n",
       "      <th>Cases_Guinea</th>\n",
       "      <th>Cases_Liberia</th>\n",
       "      <th>Cases_SierraLeone</th>\n",
       "      <th>Cases_Nigeria</th>\n",
       "      <th>Cases_Senegal</th>\n",
       "      <th>Cases_UnitedStates</th>\n",
       "      <th>Cases_Spain</th>\n",
       "      <th>Cases_Mali</th>\n",
       "      <th>Deaths_Guinea</th>\n",
       "      <th>Deaths_Liberia</th>\n",
       "      <th>Deaths_SierraLeone</th>\n",
       "      <th>Deaths_Nigeria</th>\n",
       "      <th>Deaths_Senegal</th>\n",
       "      <th>Deaths_UnitedStates</th>\n",
       "      <th>Deaths_Spain</th>\n",
       "      <th>Deaths_Mali</th>\n",
       "    </tr>\n",
       "  </thead>\n",
       "  <tbody>\n",
       "    <tr>\n",
       "      <th>0</th>\n",
       "      <td>1/5/2015</td>\n",
       "      <td>289</td>\n",
       "      <td>2776.0</td>\n",
       "      <td>NaN</td>\n",
       "      <td>10030.0</td>\n",
       "      <td>NaN</td>\n",
       "      <td>NaN</td>\n",
       "      <td>NaN</td>\n",
       "      <td>NaN</td>\n",
       "      <td>NaN</td>\n",
       "      <td>1786.0</td>\n",
       "      <td>NaN</td>\n",
       "      <td>2977.0</td>\n",
       "      <td>NaN</td>\n",
       "      <td>NaN</td>\n",
       "      <td>NaN</td>\n",
       "      <td>NaN</td>\n",
       "      <td>NaN</td>\n",
       "    </tr>\n",
       "    <tr>\n",
       "      <th>1</th>\n",
       "      <td>1/4/2015</td>\n",
       "      <td>288</td>\n",
       "      <td>2775.0</td>\n",
       "      <td>NaN</td>\n",
       "      <td>9780.0</td>\n",
       "      <td>NaN</td>\n",
       "      <td>NaN</td>\n",
       "      <td>NaN</td>\n",
       "      <td>NaN</td>\n",
       "      <td>NaN</td>\n",
       "      <td>1781.0</td>\n",
       "      <td>NaN</td>\n",
       "      <td>2943.0</td>\n",
       "      <td>NaN</td>\n",
       "      <td>NaN</td>\n",
       "      <td>NaN</td>\n",
       "      <td>NaN</td>\n",
       "      <td>NaN</td>\n",
       "    </tr>\n",
       "    <tr>\n",
       "      <th>2</th>\n",
       "      <td>1/3/2015</td>\n",
       "      <td>287</td>\n",
       "      <td>2769.0</td>\n",
       "      <td>8166.0</td>\n",
       "      <td>9722.0</td>\n",
       "      <td>NaN</td>\n",
       "      <td>NaN</td>\n",
       "      <td>NaN</td>\n",
       "      <td>NaN</td>\n",
       "      <td>NaN</td>\n",
       "      <td>1767.0</td>\n",
       "      <td>3496.0</td>\n",
       "      <td>2915.0</td>\n",
       "      <td>NaN</td>\n",
       "      <td>NaN</td>\n",
       "      <td>NaN</td>\n",
       "      <td>NaN</td>\n",
       "      <td>NaN</td>\n",
       "    </tr>\n",
       "    <tr>\n",
       "      <th>3</th>\n",
       "      <td>1/2/2015</td>\n",
       "      <td>286</td>\n",
       "      <td>NaN</td>\n",
       "      <td>8157.0</td>\n",
       "      <td>NaN</td>\n",
       "      <td>NaN</td>\n",
       "      <td>NaN</td>\n",
       "      <td>NaN</td>\n",
       "      <td>NaN</td>\n",
       "      <td>NaN</td>\n",
       "      <td>NaN</td>\n",
       "      <td>3496.0</td>\n",
       "      <td>NaN</td>\n",
       "      <td>NaN</td>\n",
       "      <td>NaN</td>\n",
       "      <td>NaN</td>\n",
       "      <td>NaN</td>\n",
       "      <td>NaN</td>\n",
       "    </tr>\n",
       "    <tr>\n",
       "      <th>4</th>\n",
       "      <td>12/31/2014</td>\n",
       "      <td>284</td>\n",
       "      <td>2730.0</td>\n",
       "      <td>8115.0</td>\n",
       "      <td>9633.0</td>\n",
       "      <td>NaN</td>\n",
       "      <td>NaN</td>\n",
       "      <td>NaN</td>\n",
       "      <td>NaN</td>\n",
       "      <td>NaN</td>\n",
       "      <td>1739.0</td>\n",
       "      <td>3471.0</td>\n",
       "      <td>2827.0</td>\n",
       "      <td>NaN</td>\n",
       "      <td>NaN</td>\n",
       "      <td>NaN</td>\n",
       "      <td>NaN</td>\n",
       "      <td>NaN</td>\n",
       "    </tr>\n",
       "    <tr>\n",
       "      <th>...</th>\n",
       "      <td>...</td>\n",
       "      <td>...</td>\n",
       "      <td>...</td>\n",
       "      <td>...</td>\n",
       "      <td>...</td>\n",
       "      <td>...</td>\n",
       "      <td>...</td>\n",
       "      <td>...</td>\n",
       "      <td>...</td>\n",
       "      <td>...</td>\n",
       "      <td>...</td>\n",
       "      <td>...</td>\n",
       "      <td>...</td>\n",
       "      <td>...</td>\n",
       "      <td>...</td>\n",
       "      <td>...</td>\n",
       "      <td>...</td>\n",
       "      <td>...</td>\n",
       "    </tr>\n",
       "    <tr>\n",
       "      <th>117</th>\n",
       "      <td>3/27/2014</td>\n",
       "      <td>5</td>\n",
       "      <td>103.0</td>\n",
       "      <td>8.0</td>\n",
       "      <td>6.0</td>\n",
       "      <td>NaN</td>\n",
       "      <td>NaN</td>\n",
       "      <td>NaN</td>\n",
       "      <td>NaN</td>\n",
       "      <td>NaN</td>\n",
       "      <td>66.0</td>\n",
       "      <td>6.0</td>\n",
       "      <td>5.0</td>\n",
       "      <td>NaN</td>\n",
       "      <td>NaN</td>\n",
       "      <td>NaN</td>\n",
       "      <td>NaN</td>\n",
       "      <td>NaN</td>\n",
       "    </tr>\n",
       "    <tr>\n",
       "      <th>118</th>\n",
       "      <td>3/26/2014</td>\n",
       "      <td>4</td>\n",
       "      <td>86.0</td>\n",
       "      <td>NaN</td>\n",
       "      <td>NaN</td>\n",
       "      <td>NaN</td>\n",
       "      <td>NaN</td>\n",
       "      <td>NaN</td>\n",
       "      <td>NaN</td>\n",
       "      <td>NaN</td>\n",
       "      <td>62.0</td>\n",
       "      <td>NaN</td>\n",
       "      <td>NaN</td>\n",
       "      <td>NaN</td>\n",
       "      <td>NaN</td>\n",
       "      <td>NaN</td>\n",
       "      <td>NaN</td>\n",
       "      <td>NaN</td>\n",
       "    </tr>\n",
       "    <tr>\n",
       "      <th>119</th>\n",
       "      <td>3/25/2014</td>\n",
       "      <td>3</td>\n",
       "      <td>86.0</td>\n",
       "      <td>NaN</td>\n",
       "      <td>NaN</td>\n",
       "      <td>NaN</td>\n",
       "      <td>NaN</td>\n",
       "      <td>NaN</td>\n",
       "      <td>NaN</td>\n",
       "      <td>NaN</td>\n",
       "      <td>60.0</td>\n",
       "      <td>NaN</td>\n",
       "      <td>NaN</td>\n",
       "      <td>NaN</td>\n",
       "      <td>NaN</td>\n",
       "      <td>NaN</td>\n",
       "      <td>NaN</td>\n",
       "      <td>NaN</td>\n",
       "    </tr>\n",
       "    <tr>\n",
       "      <th>120</th>\n",
       "      <td>3/24/2014</td>\n",
       "      <td>2</td>\n",
       "      <td>86.0</td>\n",
       "      <td>NaN</td>\n",
       "      <td>NaN</td>\n",
       "      <td>NaN</td>\n",
       "      <td>NaN</td>\n",
       "      <td>NaN</td>\n",
       "      <td>NaN</td>\n",
       "      <td>NaN</td>\n",
       "      <td>59.0</td>\n",
       "      <td>NaN</td>\n",
       "      <td>NaN</td>\n",
       "      <td>NaN</td>\n",
       "      <td>NaN</td>\n",
       "      <td>NaN</td>\n",
       "      <td>NaN</td>\n",
       "      <td>NaN</td>\n",
       "    </tr>\n",
       "    <tr>\n",
       "      <th>121</th>\n",
       "      <td>3/22/2014</td>\n",
       "      <td>0</td>\n",
       "      <td>49.0</td>\n",
       "      <td>NaN</td>\n",
       "      <td>NaN</td>\n",
       "      <td>NaN</td>\n",
       "      <td>NaN</td>\n",
       "      <td>NaN</td>\n",
       "      <td>NaN</td>\n",
       "      <td>NaN</td>\n",
       "      <td>29.0</td>\n",
       "      <td>NaN</td>\n",
       "      <td>NaN</td>\n",
       "      <td>NaN</td>\n",
       "      <td>NaN</td>\n",
       "      <td>NaN</td>\n",
       "      <td>NaN</td>\n",
       "      <td>NaN</td>\n",
       "    </tr>\n",
       "  </tbody>\n",
       "</table>\n",
       "<p>122 rows × 18 columns</p>\n",
       "</div>"
      ],
      "text/plain": [
       "           Date  Day  Cases_Guinea  Cases_Liberia  Cases_SierraLeone  \\\n",
       "0      1/5/2015  289        2776.0            NaN            10030.0   \n",
       "1      1/4/2015  288        2775.0            NaN             9780.0   \n",
       "2      1/3/2015  287        2769.0         8166.0             9722.0   \n",
       "3      1/2/2015  286           NaN         8157.0                NaN   \n",
       "4    12/31/2014  284        2730.0         8115.0             9633.0   \n",
       "..          ...  ...           ...            ...                ...   \n",
       "117   3/27/2014    5         103.0            8.0                6.0   \n",
       "118   3/26/2014    4          86.0            NaN                NaN   \n",
       "119   3/25/2014    3          86.0            NaN                NaN   \n",
       "120   3/24/2014    2          86.0            NaN                NaN   \n",
       "121   3/22/2014    0          49.0            NaN                NaN   \n",
       "\n",
       "     Cases_Nigeria  Cases_Senegal  Cases_UnitedStates  Cases_Spain  \\\n",
       "0              NaN            NaN                 NaN          NaN   \n",
       "1              NaN            NaN                 NaN          NaN   \n",
       "2              NaN            NaN                 NaN          NaN   \n",
       "3              NaN            NaN                 NaN          NaN   \n",
       "4              NaN            NaN                 NaN          NaN   \n",
       "..             ...            ...                 ...          ...   \n",
       "117            NaN            NaN                 NaN          NaN   \n",
       "118            NaN            NaN                 NaN          NaN   \n",
       "119            NaN            NaN                 NaN          NaN   \n",
       "120            NaN            NaN                 NaN          NaN   \n",
       "121            NaN            NaN                 NaN          NaN   \n",
       "\n",
       "     Cases_Mali  Deaths_Guinea  Deaths_Liberia  Deaths_SierraLeone  \\\n",
       "0           NaN         1786.0             NaN              2977.0   \n",
       "1           NaN         1781.0             NaN              2943.0   \n",
       "2           NaN         1767.0          3496.0              2915.0   \n",
       "3           NaN            NaN          3496.0                 NaN   \n",
       "4           NaN         1739.0          3471.0              2827.0   \n",
       "..          ...            ...             ...                 ...   \n",
       "117         NaN           66.0             6.0                 5.0   \n",
       "118         NaN           62.0             NaN                 NaN   \n",
       "119         NaN           60.0             NaN                 NaN   \n",
       "120         NaN           59.0             NaN                 NaN   \n",
       "121         NaN           29.0             NaN                 NaN   \n",
       "\n",
       "     Deaths_Nigeria  Deaths_Senegal  Deaths_UnitedStates  Deaths_Spain  \\\n",
       "0               NaN             NaN                  NaN           NaN   \n",
       "1               NaN             NaN                  NaN           NaN   \n",
       "2               NaN             NaN                  NaN           NaN   \n",
       "3               NaN             NaN                  NaN           NaN   \n",
       "4               NaN             NaN                  NaN           NaN   \n",
       "..              ...             ...                  ...           ...   \n",
       "117             NaN             NaN                  NaN           NaN   \n",
       "118             NaN             NaN                  NaN           NaN   \n",
       "119             NaN             NaN                  NaN           NaN   \n",
       "120             NaN             NaN                  NaN           NaN   \n",
       "121             NaN             NaN                  NaN           NaN   \n",
       "\n",
       "     Deaths_Mali  \n",
       "0            NaN  \n",
       "1            NaN  \n",
       "2            NaN  \n",
       "3            NaN  \n",
       "4            NaN  \n",
       "..           ...  \n",
       "117          NaN  \n",
       "118          NaN  \n",
       "119          NaN  \n",
       "120          NaN  \n",
       "121          NaN  \n",
       "\n",
       "[122 rows x 18 columns]"
      ]
     },
     "execution_count": 4,
     "metadata": {},
     "output_type": "execute_result"
    }
   ],
   "source": [
    "import pandas as pd\n",
    "\n",
    "ebola = pd.read_csv('../country_timeseries.csv')\n",
    "\n",
    "ebola\n",
    "# 여기서 나오는 Day의 경우에 처음의 Date에서 얼마나 지났는지를 의미"
   ]
  },
  {
   "cell_type": "markdown",
   "id": "7fc3753d",
   "metadata": {},
   "source": [
    "#### impt"
   ]
  },
  {
   "cell_type": "code",
   "execution_count": 5,
   "id": "20bfef9f-5c7b-4adc-b244-db05a91be6d6",
   "metadata": {},
   "outputs": [
    {
     "data": {
      "image/png": "[encoded data removed]",
      "text/plain": [
       "<Figure size 640x480 with 1 Axes>"
      ]
     },
     "metadata": {},
     "output_type": "display_data"
    }
   ],
   "source": [
    "import matplotlib.pyplot as plt\n",
    "import seaborn as sns\n",
    "\n",
    "guinea = ebola[['Date', 'Cases_Guinea']]\n",
    "\n",
    "guinea = guinea.sort_index(ascending=False) # 날짜 순서를 변경해주기 위해서 sort_index() 함수 사용\n",
    "\n",
    "sns.lineplot(data=guinea, x='Date', y='Cases_Guinea')\n",
    "plt.xlabel('Time')\n",
    "plt.xticks(rotation=90)\n",
    "plt.ylabel('Cases_Guinea')\n",
    "plt.show()\n",
    "# x의 값은 교수님도 마찬가지의 결과 발생"
   ]
  },
  {
   "cell_type": "code",
   "execution_count": 8,
   "id": "68bde0e4",
   "metadata": {},
   "outputs": [
    {
     "name": "stdout",
     "output_type": "stream",
     "text": [
      "<class 'pandas.core.frame.DataFrame'>\n",
      "RangeIndex: 122 entries, 0 to 121\n",
      "Data columns (total 18 columns):\n",
      " #   Column               Non-Null Count  Dtype  \n",
      "---  ------               --------------  -----  \n",
      " 0   Date                 122 non-null    object \n",
      " 1   Day                  122 non-null    int64  \n",
      " 2   Cases_Guinea         93 non-null     float64\n",
      " 3   Cases_Liberia        83 non-null     float64\n",
      " 4   Cases_SierraLeone    87 non-null     float64\n",
      " 5   Cases_Nigeria        38 non-null     float64\n",
      " 6   Cases_Senegal        25 non-null     float64\n",
      " 7   Cases_UnitedStates   18 non-null     float64\n",
      " 8   Cases_Spain          16 non-null     float64\n",
      " 9   Cases_Mali           12 non-null     float64\n",
      " 10  Deaths_Guinea        92 non-null     float64\n",
      " 11  Deaths_Liberia       81 non-null     float64\n",
      " 12  Deaths_SierraLeone   87 non-null     float64\n",
      " 13  Deaths_Nigeria       38 non-null     float64\n",
      " 14  Deaths_Senegal       22 non-null     float64\n",
      " 15  Deaths_UnitedStates  18 non-null     float64\n",
      " 16  Deaths_Spain         16 non-null     float64\n",
      " 17  Deaths_Mali          12 non-null     float64\n",
      "dtypes: float64(16), int64(1), object(1)\n",
      "memory usage: 17.3+ KB\n",
      "None\n"
     ]
    }
   ],
   "source": [
    "print(ebola.info())\n",
    "# ebola.info()\n",
    "# Date 컬럼(변수)의 자료형은 object 형임을 알 수 있음"
   ]
  },
  {
   "cell_type": "code",
   "execution_count": null,
   "id": "3741a09a",
   "metadata": {},
   "outputs": [
    {
     "data": {
      "text/html": [
       "<div>\n",
       "<style scoped>\n",
       "    .dataframe tbody tr th:only-of-type {\n",
       "        vertical-align: middle;\n",
       "    }\n",
       "\n",
       "    .dataframe tbody tr th {\n",
       "        vertical-align: top;\n",
       "    }\n",
       "\n",
       "    .dataframe thead th {\n",
       "        text-align: right;\n",
       "    }\n",
       "</style>\n",
       "<table border=\"1\" class=\"dataframe\">\n",
       "  <thead>\n",
       "    <tr style=\"text-align: right;\">\n",
       "      <th></th>\n",
       "      <th>Date</th>\n",
       "      <th>Day</th>\n",
       "      <th>Cases_Guinea</th>\n",
       "      <th>Cases_Liberia</th>\n",
       "      <th>Cases_SierraLeone</th>\n",
       "      <th>Cases_Nigeria</th>\n",
       "      <th>Cases_Senegal</th>\n",
       "      <th>Cases_UnitedStates</th>\n",
       "      <th>Cases_Spain</th>\n",
       "      <th>Cases_Mali</th>\n",
       "      <th>Deaths_Guinea</th>\n",
       "      <th>Deaths_Liberia</th>\n",
       "      <th>Deaths_SierraLeone</th>\n",
       "      <th>Deaths_Nigeria</th>\n",
       "      <th>Deaths_Senegal</th>\n",
       "      <th>Deaths_UnitedStates</th>\n",
       "      <th>Deaths_Spain</th>\n",
       "      <th>Deaths_Mali</th>\n",
       "      <th>date_dt</th>\n",
       "    </tr>\n",
       "  </thead>\n",
       "  <tbody>\n",
       "    <tr>\n",
       "      <th>0</th>\n",
       "      <td>1/5/2015</td>\n",
       "      <td>289</td>\n",
       "      <td>2776.0</td>\n",
       "      <td>NaN</td>\n",
       "      <td>10030.0</td>\n",
       "      <td>NaN</td>\n",
       "      <td>NaN</td>\n",
       "      <td>NaN</td>\n",
       "      <td>NaN</td>\n",
       "      <td>NaN</td>\n",
       "      <td>1786.0</td>\n",
       "      <td>NaN</td>\n",
       "      <td>2977.0</td>\n",
       "      <td>NaN</td>\n",
       "      <td>NaN</td>\n",
       "      <td>NaN</td>\n",
       "      <td>NaN</td>\n",
       "      <td>NaN</td>\n",
       "      <td>2015-01-05</td>\n",
       "    </tr>\n",
       "    <tr>\n",
       "      <th>1</th>\n",
       "      <td>1/4/2015</td>\n",
       "      <td>288</td>\n",
       "      <td>2775.0</td>\n",
       "      <td>NaN</td>\n",
       "      <td>9780.0</td>\n",
       "      <td>NaN</td>\n",
       "      <td>NaN</td>\n",
       "      <td>NaN</td>\n",
       "      <td>NaN</td>\n",
       "      <td>NaN</td>\n",
       "      <td>1781.0</td>\n",
       "      <td>NaN</td>\n",
       "      <td>2943.0</td>\n",
       "      <td>NaN</td>\n",
       "      <td>NaN</td>\n",
       "      <td>NaN</td>\n",
       "      <td>NaN</td>\n",
       "      <td>NaN</td>\n",
       "      <td>2015-01-04</td>\n",
       "    </tr>\n",
       "    <tr>\n",
       "      <th>2</th>\n",
       "      <td>1/3/2015</td>\n",
       "      <td>287</td>\n",
       "      <td>2769.0</td>\n",
       "      <td>8166.0</td>\n",
       "      <td>9722.0</td>\n",
       "      <td>NaN</td>\n",
       "      <td>NaN</td>\n",
       "      <td>NaN</td>\n",
       "      <td>NaN</td>\n",
       "      <td>NaN</td>\n",
       "      <td>1767.0</td>\n",
       "      <td>3496.0</td>\n",
       "      <td>2915.0</td>\n",
       "      <td>NaN</td>\n",
       "      <td>NaN</td>\n",
       "      <td>NaN</td>\n",
       "      <td>NaN</td>\n",
       "      <td>NaN</td>\n",
       "      <td>2015-01-03</td>\n",
       "    </tr>\n",
       "    <tr>\n",
       "      <th>3</th>\n",
       "      <td>1/2/2015</td>\n",
       "      <td>286</td>\n",
       "      <td>NaN</td>\n",
       "      <td>8157.0</td>\n",
       "      <td>NaN</td>\n",
       "      <td>NaN</td>\n",
       "      <td>NaN</td>\n",
       "      <td>NaN</td>\n",
       "      <td>NaN</td>\n",
       "      <td>NaN</td>\n",
       "      <td>NaN</td>\n",
       "      <td>3496.0</td>\n",
       "      <td>NaN</td>\n",
       "      <td>NaN</td>\n",
       "      <td>NaN</td>\n",
       "      <td>NaN</td>\n",
       "      <td>NaN</td>\n",
       "      <td>NaN</td>\n",
       "      <td>2015-01-02</td>\n",
       "    </tr>\n",
       "    <tr>\n",
       "      <th>4</th>\n",
       "      <td>12/31/2014</td>\n",
       "      <td>284</td>\n",
       "      <td>2730.0</td>\n",
       "      <td>8115.0</td>\n",
       "      <td>9633.0</td>\n",
       "      <td>NaN</td>\n",
       "      <td>NaN</td>\n",
       "      <td>NaN</td>\n",
       "      <td>NaN</td>\n",
       "      <td>NaN</td>\n",
       "      <td>1739.0</td>\n",
       "      <td>3471.0</td>\n",
       "      <td>2827.0</td>\n",
       "      <td>NaN</td>\n",
       "      <td>NaN</td>\n",
       "      <td>NaN</td>\n",
       "      <td>NaN</td>\n",
       "      <td>NaN</td>\n",
       "      <td>2014-12-31</td>\n",
       "    </tr>\n",
       "  </tbody>\n",
       "</table>\n",
       "</div>"
      ],
      "text/plain": [
       "         Date  Day  Cases_Guinea  Cases_Liberia  Cases_SierraLeone  \\\n",
       "0    1/5/2015  289        2776.0            NaN            10030.0   \n",
       "1    1/4/2015  288        2775.0            NaN             9780.0   \n",
       "2    1/3/2015  287        2769.0         8166.0             9722.0   \n",
       "3    1/2/2015  286           NaN         8157.0                NaN   \n",
       "4  12/31/2014  284        2730.0         8115.0             9633.0   \n",
       "\n",
       "   Cases_Nigeria  Cases_Senegal  Cases_UnitedStates  Cases_Spain  Cases_Mali  \\\n",
       "0            NaN            NaN                 NaN          NaN         NaN   \n",
       "1            NaN            NaN                 NaN          NaN         NaN   \n",
       "2            NaN            NaN                 NaN          NaN         NaN   \n",
       "3            NaN            NaN                 NaN          NaN         NaN   \n",
       "4            NaN            NaN                 NaN          NaN         NaN   \n",
       "\n",
       "   Deaths_Guinea  Deaths_Liberia  Deaths_SierraLeone  Deaths_Nigeria  \\\n",
       "0         1786.0             NaN              2977.0             NaN   \n",
       "1         1781.0             NaN              2943.0             NaN   \n",
       "2         1767.0          3496.0              2915.0             NaN   \n",
       "3            NaN          3496.0                 NaN             NaN   \n",
       "4         1739.0          3471.0              2827.0             NaN   \n",
       "\n",
       "   Deaths_Senegal  Deaths_UnitedStates  Deaths_Spain  Deaths_Mali    date_dt  \n",
       "0             NaN                  NaN           NaN          NaN 2015-01-05  \n",
       "1             NaN                  NaN           NaN          NaN 2015-01-04  \n",
       "2             NaN                  NaN           NaN          NaN 2015-01-03  \n",
       "3             NaN                  NaN           NaN          NaN 2015-01-02  \n",
       "4             NaN                  NaN           NaN          NaN 2014-12-31  "
      ]
     },
     "execution_count": 8,
     "metadata": {},
     "output_type": "execute_result"
    }
   ],
   "source": [
    "# Date 컬럼을 to_datetime() 함수를 이용하여 datetime 객체로 변환하고 새로운 컬럼 date_dt 컬럼으로 저장\n",
    "ebola['date_dt'] = pd.to_datetime(ebola['Date'])\n",
    "# 어떤 결과가 발생하냐면 2015-1-5 이런 식의 값이 넣어진다.\n",
    "ebola.head()"
   ]
  },
  {
   "cell_type": "code",
   "execution_count": 9,
   "id": "a5dd036e-86b1-40e8-b2b8-f60b0d94c92a",
   "metadata": {},
   "outputs": [
    {
     "name": "stdout",
     "output_type": "stream",
     "text": [
      "<class 'pandas.core.frame.DataFrame'>\n",
      "RangeIndex: 122 entries, 0 to 121\n",
      "Data columns (total 18 columns):\n",
      " #   Column               Non-Null Count  Dtype  \n",
      "---  ------               --------------  -----  \n",
      " 0   Date                 122 non-null    object \n",
      " 1   Day                  122 non-null    int64  \n",
      " 2   Cases_Guinea         93 non-null     float64\n",
      " 3   Cases_Liberia        83 non-null     float64\n",
      " 4   Cases_SierraLeone    87 non-null     float64\n",
      " 5   Cases_Nigeria        38 non-null     float64\n",
      " 6   Cases_Senegal        25 non-null     float64\n",
      " 7   Cases_UnitedStates   18 non-null     float64\n",
      " 8   Cases_Spain          16 non-null     float64\n",
      " 9   Cases_Mali           12 non-null     float64\n",
      " 10  Deaths_Guinea        92 non-null     float64\n",
      " 11  Deaths_Liberia       81 non-null     float64\n",
      " 12  Deaths_SierraLeone   87 non-null     float64\n",
      " 13  Deaths_Nigeria       38 non-null     float64\n",
      " 14  Deaths_Senegal       22 non-null     float64\n",
      " 15  Deaths_UnitedStates  18 non-null     float64\n",
      " 16  Deaths_Spain         16 non-null     float64\n",
      " 17  Deaths_Mali          12 non-null     float64\n",
      "dtypes: float64(16), int64(1), object(1)\n",
      "memory usage: 17.3+ KB\n"
     ]
    }
   ],
   "source": [
    "ebola.info()\n",
    "\n",
    "# 마지막 19번째 컬럼으로 date_dt가 추가되었고 Dtype(자료형)은 datetime64임을 확인할 수 있음"
   ]
  },
  {
   "cell_type": "code",
   "execution_count": 10,
   "id": "ac970449",
   "metadata": {},
   "outputs": [
    {
     "data": {
      "text/plain": [
       "0   2015-01-05\n",
       "1   2015-01-04\n",
       "2   2015-01-03\n",
       "3   2015-01-02\n",
       "4   2014-12-31\n",
       "Name: date_dt, dtype: datetime64[ns]"
      ]
     },
     "execution_count": 10,
     "metadata": {},
     "output_type": "execute_result"
    }
   ],
   "source": [
    "# format 매개변수를 이용하여 데이터의 날짜 형식을 지정할 수 있음. Date 컬럼의 데이터는 월/일/년 형식이므로 %m/%d/%Y로 지정\n",
    "ebola['date_dt'] = pd.to_datetime(ebola['Date'], format='%m/%d/%Y')\n",
    "\n",
    "# %m: 2자리 월 (01~12)\n",
    "# %d: 2자리 일 (01~31)\n",
    "# %Y: 4자리 연도\n",
    "# %y: 2자리 연도\n",
    "# 그 외 시, 분 초, 주차, 시간대 등을 표현하는 규칙 있음\n",
    "# %H: 시간(24시간 형식. 00~23), %I: 시간(12시간 형식. 01~12), %M: 2자리 분 (00~59), %S: 초 (00~61. 60, 61은 윤초)\n",
    "\n",
    "ebola.head()\n",
    "ebola['date_dt'].head()\n"
   ]
  },
  {
   "cell_type": "code",
   "execution_count": 11,
   "id": "4b4253b9",
   "metadata": {},
   "outputs": [
    {
     "name": "stdout",
     "output_type": "stream",
     "text": [
      "<class 'pandas.core.frame.DataFrame'>\n",
      "RangeIndex: 122 entries, 0 to 121\n",
      "Data columns (total 19 columns):\n",
      " #   Column               Non-Null Count  Dtype         \n",
      "---  ------               --------------  -----         \n",
      " 0   Date                 122 non-null    object        \n",
      " 1   Day                  122 non-null    int64         \n",
      " 2   Cases_Guinea         93 non-null     float64       \n",
      " 3   Cases_Liberia        83 non-null     float64       \n",
      " 4   Cases_SierraLeone    87 non-null     float64       \n",
      " 5   Cases_Nigeria        38 non-null     float64       \n",
      " 6   Cases_Senegal        25 non-null     float64       \n",
      " 7   Cases_UnitedStates   18 non-null     float64       \n",
      " 8   Cases_Spain          16 non-null     float64       \n",
      " 9   Cases_Mali           12 non-null     float64       \n",
      " 10  Deaths_Guinea        92 non-null     float64       \n",
      " 11  Deaths_Liberia       81 non-null     float64       \n",
      " 12  Deaths_SierraLeone   87 non-null     float64       \n",
      " 13  Deaths_Nigeria       38 non-null     float64       \n",
      " 14  Deaths_Senegal       22 non-null     float64       \n",
      " 15  Deaths_UnitedStates  18 non-null     float64       \n",
      " 16  Deaths_Spain         16 non-null     float64       \n",
      " 17  Deaths_Mali          12 non-null     float64       \n",
      " 18  date_dt              122 non-null    datetime64[ns]\n",
      "dtypes: datetime64[ns](1), float64(16), int64(1), object(1)\n",
      "memory usage: 18.2+ KB\n",
      "None\n"
     ]
    }
   ],
   "source": [
    "print(ebola.info())"
   ]
  },
  {
   "cell_type": "markdown",
   "id": "dcd8f2c6",
   "metadata": {},
   "source": [
    "#### 3. 시계열 데이터 불러오기\n",
    "- read_csv() 함수는 parse_dates, keep_date_col, date_parser, dayfirst 등 시계열 데이터를 처리하는 다양한 매개변수를 제공함\n",
    "- parse_dates 매개변수에 원하는 컬럼 이름을 지정하면 데이터를 읽어올 때 datetime 형으로 처음부터 변환하여 불러올 수 있음"
   ]
  },
  {
   "cell_type": "markdown",
   "id": "32020e91",
   "metadata": {},
   "source": [
    "##### 사용 함수"
   ]
  },
  {
   "cell_type": "markdown",
   "id": "aa473140",
   "metadata": {},
   "source": [
    "ebola = pd.read_csv('country_timeseries.csv', parse_dates=[\"Date\"])"
   ]
  },
  {
   "cell_type": "code",
   "execution_count": null,
   "id": "6c5db757",
   "metadata": {},
   "outputs": [
    {
     "name": "stdout",
     "output_type": "stream",
     "text": [
      "<class 'pandas.core.frame.DataFrame'>\n",
      "RangeIndex: 122 entries, 0 to 121\n",
      "Data columns (total 18 columns):\n",
      " #   Column               Non-Null Count  Dtype         \n",
      "---  ------               --------------  -----         \n",
      " 0   Date                 122 non-null    datetime64[ns]\n",
      " 1   Day                  122 non-null    int64         \n",
      " 2   Cases_Guinea         93 non-null     float64       \n",
      " 3   Cases_Liberia        83 non-null     float64       \n",
      " 4   Cases_SierraLeone    87 non-null     float64       \n",
      " 5   Cases_Nigeria        38 non-null     float64       \n",
      " 6   Cases_Senegal        25 non-null     float64       \n",
      " 7   Cases_UnitedStates   18 non-null     float64       \n",
      " 8   Cases_Spain          16 non-null     float64       \n",
      " 9   Cases_Mali           12 non-null     float64       \n",
      " 10  Deaths_Guinea        92 non-null     float64       \n",
      " 11  Deaths_Liberia       81 non-null     float64       \n",
      " 12  Deaths_SierraLeone   87 non-null     float64       \n",
      " 13  Deaths_Nigeria       38 non-null     float64       \n",
      " 14  Deaths_Senegal       22 non-null     float64       \n",
      " 15  Deaths_UnitedStates  18 non-null     float64       \n",
      " 16  Deaths_Spain         16 non-null     float64       \n",
      " 17  Deaths_Mali          12 non-null     float64       \n",
      "dtypes: datetime64[ns](1), float64(16), int64(1)\n",
      "memory usage: 17.3 KB\n",
      "None\n"
     ]
    }
   ],
   "source": [
    "# parse_dataes = [Date타입으로 변환하고자 하는 컬럼명]\n",
    "# 이 코드 전에는 Object 타입이었음.\n",
    "ebola = pd.read_csv('country_timeseries.csv', parse_dates=[\"Date\"])\n",
    "print(ebola.info())"
   ]
  },
  {
   "cell_type": "markdown",
   "id": "dfeabf54",
   "metadata": {},
   "source": [
    "#### 4. 시간 정보 추출하기\n",
    "- datetime 객체에서 연, 월, 일과 같은 시간 정보 요소를 따로 추출할 수 있음"
   ]
  },
  {
   "cell_type": "code",
   "execution_count": 28,
   "id": "cfefe584",
   "metadata": {},
   "outputs": [
    {
     "name": "stdout",
     "output_type": "stream",
     "text": [
      "2021-12-14 00:00:00\n",
      "<class 'pandas._libs.tslibs.timestamps.Timestamp'>\n"
     ]
    }
   ],
   "source": [
    "# to_datetime() 함수에 일시를 나타내는 문자열을 전달하면 Timestamp 객체를 반환함\n",
    "d = pd.to_datetime('2021-12-14') \n",
    "print(d)\n",
    "print(type(d))"
   ]
  },
  {
   "cell_type": "markdown",
   "id": "4a3be868-acf6-4218-9327-e66e582715ef",
   "metadata": {},
   "source": [
    "- Timestamp 객체의 year, month, day 속성으로 연, 월, 일 값을 읽을 수 있음"
   ]
  },
  {
   "cell_type": "code",
   "execution_count": 14,
   "id": "30c4b513",
   "metadata": {},
   "outputs": [
    {
     "name": "stdout",
     "output_type": "stream",
     "text": [
      "2021\n",
      "12\n",
      "14\n"
     ]
    }
   ],
   "source": [
    "print(d.year)\n",
    "print(d.month)\n",
    "print(d.day)"
   ]
  },
  {
   "cell_type": "code",
   "execution_count": 29,
   "id": "dd51bf49",
   "metadata": {},
   "outputs": [
    {
     "name": "stdout",
     "output_type": "stream",
     "text": [
      "          Date    date_dt\n",
      "0   2015-01-05 2015-01-05\n",
      "1   2015-01-04 2015-01-04\n",
      "2   2015-01-03 2015-01-03\n",
      "3   2015-01-02 2015-01-02\n",
      "4   2014-12-31 2014-12-31\n",
      "..         ...        ...\n",
      "117 2014-03-27 2014-03-27\n",
      "118 2014-03-26 2014-03-26\n",
      "119 2014-03-25 2014-03-25\n",
      "120 2014-03-24 2014-03-24\n",
      "121 2014-03-22 2014-03-22\n",
      "\n",
      "[122 rows x 2 columns]\n"
     ]
    }
   ],
   "source": [
    "ebola['date_dt'] = pd.to_datetime(ebola['Date'])\n",
    "print(ebola[['Date', 'date_dt']])"
   ]
  },
  {
   "cell_type": "markdown",
   "id": "0e2cca8f-d6f7-423c-ac28-4092dc383e8f",
   "metadata": {},
   "source": [
    "- datetime 객체의 dt.year 속성으로 연도 값을 읽을 수 있음"
   ]
  },
  {
   "cell_type": "code",
   "execution_count": 30,
   "id": "c72a0390",
   "metadata": {},
   "outputs": [
    {
     "name": "stdout",
     "output_type": "stream",
     "text": [
      "          Date    date_dt  year\n",
      "0   2015-01-05 2015-01-05  2015\n",
      "1   2015-01-04 2015-01-04  2015\n",
      "2   2015-01-03 2015-01-03  2015\n",
      "3   2015-01-02 2015-01-02  2015\n",
      "4   2014-12-31 2014-12-31  2014\n",
      "..         ...        ...   ...\n",
      "117 2014-03-27 2014-03-27  2014\n",
      "118 2014-03-26 2014-03-26  2014\n",
      "119 2014-03-25 2014-03-25  2014\n",
      "120 2014-03-24 2014-03-24  2014\n",
      "121 2014-03-22 2014-03-22  2014\n",
      "\n",
      "[122 rows x 3 columns]\n"
     ]
    }
   ],
   "source": [
    "ebola['year'] = ebola['date_dt'].dt.year # dt.year 속성으로 연도 값을 읽고 그것을 year라는 새로운 컬럼으로 저장\n",
    "print(ebola[['Date', 'date_dt', 'year']])"
   ]
  },
  {
   "cell_type": "markdown",
   "id": "85662409-d897-4021-8e57-27c9bc064243",
   "metadata": {},
   "source": [
    "- dt.year와 마찬가지로 dt.month, dt.day 속성으로 월, 일 값을 읽을 수 있음"
   ]
  },
  {
   "cell_type": "code",
   "execution_count": 31,
   "id": "6a3035ae",
   "metadata": {},
   "outputs": [
    {
     "name": "stdout",
     "output_type": "stream",
     "text": [
      "          Date    date_dt  year  month  day\n",
      "0   2015-01-05 2015-01-05  2015      1    5\n",
      "1   2015-01-04 2015-01-04  2015      1    4\n",
      "2   2015-01-03 2015-01-03  2015      1    3\n",
      "3   2015-01-02 2015-01-02  2015      1    2\n",
      "4   2014-12-31 2014-12-31  2014     12   31\n",
      "..         ...        ...   ...    ...  ...\n",
      "117 2014-03-27 2014-03-27  2014      3   27\n",
      "118 2014-03-26 2014-03-26  2014      3   26\n",
      "119 2014-03-25 2014-03-25  2014      3   25\n",
      "120 2014-03-24 2014-03-24  2014      3   24\n",
      "121 2014-03-22 2014-03-22  2014      3   22\n",
      "\n",
      "[122 rows x 5 columns]\n"
     ]
    }
   ],
   "source": [
    "# 아래 코드는 월, 일 값을 읽고 그것을 month, day라는 새로운 컬럼으로 저장\n",
    "ebola = ebola.assign(\n",
    "    month=ebola[\"date_dt\"].dt.month,\n",
    "    day=ebola[\"date_dt\"].dt.day\n",
    ")\n",
    "\n",
    "print(ebola[['Date', 'date_dt', 'year', 'month', 'day']])"
   ]
  },
  {
   "cell_type": "code",
   "execution_count": null,
   "id": "2e1e1c6c",
   "metadata": {},
   "outputs": [],
   "source": [
    "print(ebola)"
   ]
  },
  {
   "cell_type": "code",
   "execution_count": 32,
   "id": "70a6c173",
   "metadata": {},
   "outputs": [
    {
     "name": "stdout",
     "output_type": "stream",
     "text": [
      "<class 'pandas.core.frame.DataFrame'>\n",
      "RangeIndex: 122 entries, 0 to 121\n",
      "Data columns (total 22 columns):\n",
      " #   Column               Non-Null Count  Dtype         \n",
      "---  ------               --------------  -----         \n",
      " 0   Date                 122 non-null    datetime64[ns]\n",
      " 1   Day                  122 non-null    int64         \n",
      " 2   Cases_Guinea         93 non-null     float64       \n",
      " 3   Cases_Liberia        83 non-null     float64       \n",
      " 4   Cases_SierraLeone    87 non-null     float64       \n",
      " 5   Cases_Nigeria        38 non-null     float64       \n",
      " 6   Cases_Senegal        25 non-null     float64       \n",
      " 7   Cases_UnitedStates   18 non-null     float64       \n",
      " 8   Cases_Spain          16 non-null     float64       \n",
      " 9   Cases_Mali           12 non-null     float64       \n",
      " 10  Deaths_Guinea        92 non-null     float64       \n",
      " 11  Deaths_Liberia       81 non-null     float64       \n",
      " 12  Deaths_SierraLeone   87 non-null     float64       \n",
      " 13  Deaths_Nigeria       38 non-null     float64       \n",
      " 14  Deaths_Senegal       22 non-null     float64       \n",
      " 15  Deaths_UnitedStates  18 non-null     float64       \n",
      " 16  Deaths_Spain         16 non-null     float64       \n",
      " 17  Deaths_Mali          12 non-null     float64       \n",
      " 18  date_dt              122 non-null    datetime64[ns]\n",
      " 19  year                 122 non-null    int32         \n",
      " 20  month                122 non-null    int32         \n",
      " 21  day                  122 non-null    int32         \n",
      "dtypes: datetime64[ns](2), float64(16), int32(3), int64(1)\n",
      "memory usage: 19.7 KB\n",
      "None\n"
     ]
    }
   ],
   "source": [
    "print(ebola.info())"
   ]
  },
  {
   "cell_type": "markdown",
   "id": "60ec769e",
   "metadata": {},
   "source": [
    "#### 5. 시간 간격 계산하기"
   ]
  },
  {
   "cell_type": "code",
   "execution_count": 14,
   "id": "7cbfd244",
   "metadata": {},
   "outputs": [
    {
     "name": "stdout",
     "output_type": "stream",
     "text": [
      "          Date  Day  Cases_Guinea  Cases_Liberia  Cases_SierraLeone\n",
      "117  3/27/2014    5         103.0            8.0                6.0\n",
      "118  3/26/2014    4          86.0            NaN                NaN\n",
      "119  3/25/2014    3          86.0            NaN                NaN\n",
      "120  3/24/2014    2          86.0            NaN                NaN\n",
      "121  3/22/2014    0          49.0            NaN                NaN\n"
     ]
    }
   ],
   "source": [
    "print(ebola.iloc[-5:, :5]) # 마지막 5개 행에서 처음 5개 열을 추출"
   ]
  },
  {
   "cell_type": "markdown",
   "id": "4b8990fe-ae7b-49c5-8b09-5721cf6a89a3",
   "metadata": {},
   "source": [
    "- 에볼라 데이터셋은 발병 이후 날짜에 따라 전염병의 현황을 집계한 데이터로 Day 열은 전염병이 처음 발생한 날로부터 며칠이 지났는지를 나타냄"
   ]
  },
  {
   "cell_type": "code",
   "execution_count": 34,
   "id": "498ad0d4",
   "metadata": {},
   "outputs": [
    {
     "name": "stdout",
     "output_type": "stream",
     "text": [
      "2014-03-22 00:00:00\n"
     ]
    }
   ],
   "source": [
    "print(ebola['date_dt'].min())"
   ]
  },
  {
   "cell_type": "markdown",
   "id": "f8589b77-505c-4738-a3f6-689b7533e8d1",
   "metadata": {},
   "source": [
    "- 발병 첫날, 즉 데이터셋에서 가장 오래된 날짜와 Date 열의 각 날짜의 차이를 계산하면 Day 열과 같은 값을 구할 수 있음"
   ]
  },
  {
   "cell_type": "code",
   "execution_count": 35,
   "id": "df18d4fb",
   "metadata": {},
   "outputs": [
    {
     "name": "stdout",
     "output_type": "stream",
     "text": [
      "          Date  Day outbreak_d\n",
      "0   2015-01-05  289   289 days\n",
      "1   2015-01-04  288   288 days\n",
      "2   2015-01-03  287   287 days\n",
      "3   2015-01-02  286   286 days\n",
      "4   2014-12-31  284   284 days\n",
      "..         ...  ...        ...\n",
      "117 2014-03-27    5     5 days\n",
      "118 2014-03-26    4     4 days\n",
      "119 2014-03-25    3     3 days\n",
      "120 2014-03-24    2     2 days\n",
      "121 2014-03-22    0     0 days\n",
      "\n",
      "[122 rows x 3 columns]\n"
     ]
    }
   ],
   "source": [
    "ebola['outbreak_d'] = ebola['date_dt'] - ebola['date_dt'].min() # datetime 객체 간의 차이를 계산\n",
    "\n",
    "print(ebola[['Date', 'Day', 'outbreak_d']])"
   ]
  },
  {
   "cell_type": "code",
   "execution_count": 36,
   "id": "46a75199",
   "metadata": {},
   "outputs": [
    {
     "name": "stdout",
     "output_type": "stream",
     "text": [
      "<class 'pandas.core.frame.DataFrame'>\n",
      "RangeIndex: 122 entries, 0 to 121\n",
      "Data columns (total 23 columns):\n",
      " #   Column               Non-Null Count  Dtype          \n",
      "---  ------               --------------  -----          \n",
      " 0   Date                 122 non-null    datetime64[ns] \n",
      " 1   Day                  122 non-null    int64          \n",
      " 2   Cases_Guinea         93 non-null     float64        \n",
      " 3   Cases_Liberia        83 non-null     float64        \n",
      " 4   Cases_SierraLeone    87 non-null     float64        \n",
      " 5   Cases_Nigeria        38 non-null     float64        \n",
      " 6   Cases_Senegal        25 non-null     float64        \n",
      " 7   Cases_UnitedStates   18 non-null     float64        \n",
      " 8   Cases_Spain          16 non-null     float64        \n",
      " 9   Cases_Mali           12 non-null     float64        \n",
      " 10  Deaths_Guinea        92 non-null     float64        \n",
      " 11  Deaths_Liberia       81 non-null     float64        \n",
      " 12  Deaths_SierraLeone   87 non-null     float64        \n",
      " 13  Deaths_Nigeria       38 non-null     float64        \n",
      " 14  Deaths_Senegal       22 non-null     float64        \n",
      " 15  Deaths_UnitedStates  18 non-null     float64        \n",
      " 16  Deaths_Spain         16 non-null     float64        \n",
      " 17  Deaths_Mali          12 non-null     float64        \n",
      " 18  date_dt              122 non-null    datetime64[ns] \n",
      " 19  year                 122 non-null    int32          \n",
      " 20  month                122 non-null    int32          \n",
      " 21  day                  122 non-null    int32          \n",
      " 22  outbreak_d           122 non-null    timedelta64[ns]\n",
      "dtypes: datetime64[ns](2), float64(16), int32(3), int64(1), timedelta64[ns](1)\n",
      "memory usage: 20.6 KB\n",
      "None\n"
     ]
    }
   ],
   "source": [
    "print(ebola.info())\n",
    "\n",
    "# outbreak_d 컬럼의 자료형은 timedelta64 형임을 확인할 수 있음"
   ]
  },
  {
   "cell_type": "markdown",
   "id": "efd9dfb8-a48a-4b84-a1f3-6dc1492d70c8",
   "metadata": {},
   "source": [
    "#### 6. 시간 인덱스 설정 및 시간별 데이터 추출하기\n",
    "- 시간을 나타내는 컬럼(변수)를 인덱스로 설정하여 분석에 이용할 수 있음"
   ]
  },
  {
   "cell_type": "markdown",
   "id": "7460303b",
   "metadata": {},
   "source": [
    "#### 사용함수"
   ]
  },
  {
   "cell_type": "markdown",
   "id": "b1a9fa41",
   "metadata": {},
   "source": [
    "데이터프레임.set_index(' ')"
   ]
  },
  {
   "cell_type": "code",
   "execution_count": 47,
   "id": "e09273f2-a894-445c-826e-ebe6195d879b",
   "metadata": {},
   "outputs": [
    {
     "name": "stdout",
     "output_type": "stream",
     "text": [
      "<class 'pandas.core.frame.DataFrame'>\n",
      "RangeIndex: 122 entries, 0 to 121\n",
      "Data columns (total 18 columns):\n",
      " #   Column               Non-Null Count  Dtype         \n",
      "---  ------               --------------  -----         \n",
      " 0   Date                 122 non-null    datetime64[ns]\n",
      " 1   Day                  122 non-null    int64         \n",
      " 2   Cases_Guinea         93 non-null     float64       \n",
      " 3   Cases_Liberia        83 non-null     float64       \n",
      " 4   Cases_SierraLeone    87 non-null     float64       \n",
      " 5   Cases_Nigeria        38 non-null     float64       \n",
      " 6   Cases_Senegal        25 non-null     float64       \n",
      " 7   Cases_UnitedStates   18 non-null     float64       \n",
      " 8   Cases_Spain          16 non-null     float64       \n",
      " 9   Cases_Mali           12 non-null     float64       \n",
      " 10  Deaths_Guinea        92 non-null     float64       \n",
      " 11  Deaths_Liberia       81 non-null     float64       \n",
      " 12  Deaths_SierraLeone   87 non-null     float64       \n",
      " 13  Deaths_Nigeria       38 non-null     float64       \n",
      " 14  Deaths_Senegal       22 non-null     float64       \n",
      " 15  Deaths_UnitedStates  18 non-null     float64       \n",
      " 16  Deaths_Spain         16 non-null     float64       \n",
      " 17  Deaths_Mali          12 non-null     float64       \n",
      "dtypes: datetime64[ns](1), float64(16), int64(1)\n",
      "memory usage: 17.3 KB\n",
      "None\n"
     ]
    }
   ],
   "source": [
    "ebola = pd.read_csv('country_timeseries.csv', parse_dates=[\"Date\"])\n",
    "print(ebola.info())"
   ]
  },
  {
   "cell_type": "code",
   "execution_count": 48,
   "id": "3f2a77ea-cd86-47ec-a434-440516b32500",
   "metadata": {},
   "outputs": [
    {
     "data": {
      "text/plain": [
       "RangeIndex(start=0, stop=122, step=1)"
      ]
     },
     "execution_count": 48,
     "metadata": {},
     "output_type": "execute_result"
    }
   ],
   "source": [
    "# 현재 인덱스는 기본 인덱스로 0부터 122까지 숫자\n",
    "ebola.index"
   ]
  },
  {
   "cell_type": "code",
   "execution_count": 49,
   "id": "39e48061-acbd-4a3f-8091-81043ba3ddcf",
   "metadata": {},
   "outputs": [
    {
     "name": "stdout",
     "output_type": "stream",
     "text": [
      "        Date  Day  Cases_Guinea  Cases_Liberia  Cases_SierraLeone\n",
      "0 2015-01-05  289        2776.0            NaN            10030.0\n",
      "1 2015-01-04  288        2775.0            NaN             9780.0\n",
      "2 2015-01-03  287        2769.0         8166.0             9722.0\n",
      "3 2015-01-02  286           NaN         8157.0                NaN\n",
      "4 2014-12-31  284        2730.0         8115.0             9633.0\n",
      "=================\n",
      "            Day  Cases_Guinea  Cases_Liberia  Cases_SierraLeone  Cases_Nigeria\n",
      "Date                                                                          \n",
      "2015-01-05  289        2776.0            NaN            10030.0            NaN\n",
      "2015-01-04  288        2775.0            NaN             9780.0            NaN\n",
      "2015-01-03  287        2769.0         8166.0             9722.0            NaN\n",
      "2015-01-02  286           NaN         8157.0                NaN            NaN\n",
      "2014-12-31  284        2730.0         8115.0             9633.0            NaN\n"
     ]
    }
   ],
   "source": [
    "# datetime 자료형인 Date 컬럼을 인덱스로 설정\n",
    "ebolaDateIndex = ebola.set_index('Date')\n",
    "\n",
    "# 인덱스 변경하지 않은 ebola 객체의 첫 5개 행, 5개 열을 출력\n",
    "print(ebola.iloc[:5, :5])\n",
    "\n",
    "print('=================')\n",
    "\n",
    "# 인덱스를 변경한 ebolaDateIndex 객체의 첫 5개 행, 5개 열을 출력\n",
    "print(ebolaDateIndex.iloc[:5, :5])"
   ]
  },
  {
   "cell_type": "code",
   "execution_count": 50,
   "id": "3b9f1fa7-c10b-4d43-871f-fcb6720588c1",
   "metadata": {},
   "outputs": [
    {
     "name": "stdout",
     "output_type": "stream",
     "text": [
      "DatetimeIndex(['2015-01-05', '2015-01-04', '2015-01-03', '2015-01-02',\n",
      "               '2014-12-31', '2014-12-28', '2014-12-27', '2014-12-24',\n",
      "               '2014-12-21', '2014-12-20',\n",
      "               ...\n",
      "               '2014-04-04', '2014-04-01', '2014-03-31', '2014-03-29',\n",
      "               '2014-03-28', '2014-03-27', '2014-03-26', '2014-03-25',\n",
      "               '2014-03-24', '2014-03-22'],\n",
      "              dtype='datetime64[ns]', name='Date', length=122, freq=None)\n"
     ]
    }
   ],
   "source": [
    "print(ebolaDateIndex.index)"
   ]
  },
  {
   "cell_type": "markdown",
   "id": "80a26a23-081c-40f3-a32e-0e0f50f30d1b",
   "metadata": {},
   "source": [
    "- 위 출력 결과에서 DataFrame 객체인 ebolaDateIndex의 인덱스가 DatetimeIndex 객체이고, 각 인덱스 값의 자료형은 datetime64 임을 알 수 있음"
   ]
  },
  {
   "cell_type": "code",
   "execution_count": 51,
   "id": "f703daea-df16-45a0-807b-5356fe150831",
   "metadata": {},
   "outputs": [
    {
     "name": "stdout",
     "output_type": "stream",
     "text": [
      "            Day  Cases_Guinea  Cases_Liberia  Cases_SierraLeone  \\\n",
      "Date                                                              \n",
      "2015-01-05  289        2776.0            NaN            10030.0   \n",
      "2015-01-04  288        2775.0            NaN             9780.0   \n",
      "2015-01-03  287        2769.0         8166.0             9722.0   \n",
      "2015-01-02  286           NaN         8157.0                NaN   \n",
      "\n",
      "            Cases_Nigeria  Cases_Senegal  Cases_UnitedStates  Cases_Spain  \\\n",
      "Date                                                                        \n",
      "2015-01-05            NaN            NaN                 NaN          NaN   \n",
      "2015-01-04            NaN            NaN                 NaN          NaN   \n",
      "2015-01-03            NaN            NaN                 NaN          NaN   \n",
      "2015-01-02            NaN            NaN                 NaN          NaN   \n",
      "\n",
      "            Cases_Mali  Deaths_Guinea  Deaths_Liberia  Deaths_SierraLeone  \\\n",
      "Date                                                                        \n",
      "2015-01-05         NaN         1786.0             NaN              2977.0   \n",
      "2015-01-04         NaN         1781.0             NaN              2943.0   \n",
      "2015-01-03         NaN         1767.0          3496.0              2915.0   \n",
      "2015-01-02         NaN            NaN          3496.0                 NaN   \n",
      "\n",
      "            Deaths_Nigeria  Deaths_Senegal  Deaths_UnitedStates  Deaths_Spain  \\\n",
      "Date                                                                            \n",
      "2015-01-05             NaN             NaN                  NaN           NaN   \n",
      "2015-01-04             NaN             NaN                  NaN           NaN   \n",
      "2015-01-03             NaN             NaN                  NaN           NaN   \n",
      "2015-01-02             NaN             NaN                  NaN           NaN   \n",
      "\n",
      "            Deaths_Mali  \n",
      "Date                     \n",
      "2015-01-05          NaN  \n",
      "2015-01-04          NaN  \n",
      "2015-01-03          NaN  \n",
      "2015-01-02          NaN  \n"
     ]
    }
   ],
   "source": [
    "# 2015년 데이터만 추출\n",
    "print(ebolaDateIndex.loc['2015'])"
   ]
  },
  {
   "cell_type": "code",
   "execution_count": 52,
   "id": "0154e981-dcfb-4332-9795-89c4a69ec360",
   "metadata": {},
   "outputs": [
    {
     "name": "stdout",
     "output_type": "stream",
     "text": [
      "            Day  Cases_Guinea  Cases_Liberia  Cases_SierraLeone  \\\n",
      "Date                                                              \n",
      "2014-12-31  284        2730.0         8115.0             9633.0   \n",
      "2014-12-28  281        2706.0         8018.0             9446.0   \n",
      "2014-12-27  280        2695.0            NaN             9409.0   \n",
      "2014-12-24  277        2630.0         7977.0             9203.0   \n",
      "2014-12-21  273        2597.0            NaN             9004.0   \n",
      "2014-12-20  272        2571.0         7862.0             8939.0   \n",
      "2014-12-18  271           NaN         7830.0                NaN   \n",
      "2014-12-14  267        2416.0            NaN             8356.0   \n",
      "2014-12-09  262           NaN         7797.0                NaN   \n",
      "2014-12-07  260        2292.0            NaN             7897.0   \n",
      "2014-12-03  256           NaN         7719.0                NaN   \n",
      "\n",
      "            Cases_Nigeria  Cases_Senegal  Cases_UnitedStates  Cases_Spain  \\\n",
      "Date                                                                        \n",
      "2014-12-31            NaN            NaN                 NaN          NaN   \n",
      "2014-12-28            NaN            NaN                 NaN          NaN   \n",
      "2014-12-27            NaN            NaN                 NaN          NaN   \n",
      "2014-12-24            NaN            NaN                 NaN          NaN   \n",
      "2014-12-21            NaN            NaN                 NaN          NaN   \n",
      "2014-12-20            NaN            NaN                 NaN          NaN   \n",
      "2014-12-18            NaN            NaN                 NaN          NaN   \n",
      "2014-12-14            NaN            NaN                 NaN          NaN   \n",
      "2014-12-09            NaN            NaN                 NaN          NaN   \n",
      "2014-12-07           20.0            1.0                 4.0          1.0   \n",
      "2014-12-03            NaN            NaN                 NaN          NaN   \n",
      "\n",
      "            Cases_Mali  Deaths_Guinea  Deaths_Liberia  Deaths_SierraLeone  \\\n",
      "Date                                                                        \n",
      "2014-12-31         NaN         1739.0          3471.0              2827.0   \n",
      "2014-12-28         NaN         1708.0          3423.0              2758.0   \n",
      "2014-12-27         NaN         1697.0             NaN              2732.0   \n",
      "2014-12-24         NaN            NaN          3413.0              2655.0   \n",
      "2014-12-21         NaN         1607.0             NaN              2582.0   \n",
      "2014-12-20         NaN         1586.0          3384.0              2556.0   \n",
      "2014-12-18         NaN            NaN          3376.0                 NaN   \n",
      "2014-12-14         NaN         1525.0             NaN              2085.0   \n",
      "2014-12-09         NaN            NaN          3290.0                 NaN   \n",
      "2014-12-07         7.0         1428.0             NaN              1768.0   \n",
      "2014-12-03         NaN            NaN          3177.0                 NaN   \n",
      "\n",
      "            Deaths_Nigeria  Deaths_Senegal  Deaths_UnitedStates  Deaths_Spain  \\\n",
      "Date                                                                            \n",
      "2014-12-31             NaN             NaN                  NaN           NaN   \n",
      "2014-12-28             NaN             NaN                  NaN           NaN   \n",
      "2014-12-27             NaN             NaN                  NaN           NaN   \n",
      "2014-12-24             NaN             NaN                  NaN           NaN   \n",
      "2014-12-21             NaN             NaN                  NaN           NaN   \n",
      "2014-12-20             NaN             NaN                  NaN           NaN   \n",
      "2014-12-18             NaN             NaN                  NaN           NaN   \n",
      "2014-12-14             NaN             NaN                  NaN           NaN   \n",
      "2014-12-09             NaN             NaN                  NaN           NaN   \n",
      "2014-12-07             8.0             0.0                  1.0           0.0   \n",
      "2014-12-03             NaN             NaN                  NaN           NaN   \n",
      "\n",
      "            Deaths_Mali  \n",
      "Date                     \n",
      "2014-12-31          NaN  \n",
      "2014-12-28          NaN  \n",
      "2014-12-27          NaN  \n",
      "2014-12-24          NaN  \n",
      "2014-12-21          NaN  \n",
      "2014-12-20          NaN  \n",
      "2014-12-18          NaN  \n",
      "2014-12-14          NaN  \n",
      "2014-12-09          NaN  \n",
      "2014-12-07          6.0  \n",
      "2014-12-03          NaN  \n"
     ]
    }
   ],
   "source": [
    "# 2014년 12월 데이터만 추출\n",
    "print(ebolaDateIndex.loc['2014-12'])"
   ]
  },
  {
   "cell_type": "code",
   "execution_count": 53,
   "id": "ed7133e1-e36f-4a5d-90e3-3aee1b691ed9",
   "metadata": {},
   "outputs": [
    {
     "name": "stdout",
     "output_type": "stream",
     "text": [
      "Day                      9.0\n",
      "Cases_Guinea           122.0\n",
      "Cases_Liberia            8.0\n",
      "Cases_SierraLeone        2.0\n",
      "Cases_Nigeria            NaN\n",
      "Cases_Senegal            NaN\n",
      "Cases_UnitedStates       NaN\n",
      "Cases_Spain              NaN\n",
      "Cases_Mali               NaN\n",
      "Deaths_Guinea           80.0\n",
      "Deaths_Liberia           4.0\n",
      "Deaths_SierraLeone       2.0\n",
      "Deaths_Nigeria           NaN\n",
      "Deaths_Senegal           NaN\n",
      "Deaths_UnitedStates      NaN\n",
      "Deaths_Spain             NaN\n",
      "Deaths_Mali              NaN\n",
      "Name: 2014-03-31 00:00:00, dtype: float64\n"
     ]
    }
   ],
   "source": [
    "# 2014년 03월 31일 데이터만 추출\n",
    "print(ebolaDateIndex.loc['2014-03-31'])"
   ]
  },
  {
   "cell_type": "markdown",
   "id": "a44f4ff5",
   "metadata": {},
   "source": [
    "- TimedeltaIndex 활용\n",
    "  - 두 datetime 객체의 시간 차이를 나타내는 변수를 인덱스로 이용 가능"
   ]
  },
  {
   "cell_type": "code",
   "execution_count": 55,
   "id": "83913f09",
   "metadata": {},
   "outputs": [],
   "source": [
    "ebola['ref_date'] = ebola['Date'] - ebola['Date'].min() # datetime 객체 간의 차이를 계산하여 ref_date라는 컬럼(변수)으로 저장"
   ]
  },
  {
   "cell_type": "code",
   "execution_count": 58,
   "id": "da48c702",
   "metadata": {},
   "outputs": [
    {
     "name": "stdout",
     "output_type": "stream",
     "text": [
      "               Date  Day  Cases_Guinea  Cases_Liberia  Cases_SierraLeone  \\\n",
      "ref_date                                                                   \n",
      "289 days 2015-01-05  289        2776.0            NaN            10030.0   \n",
      "288 days 2015-01-04  288        2775.0            NaN             9780.0   \n",
      "287 days 2015-01-03  287        2769.0         8166.0             9722.0   \n",
      "286 days 2015-01-02  286           NaN         8157.0                NaN   \n",
      "284 days 2014-12-31  284        2730.0         8115.0             9633.0   \n",
      "\n",
      "          Cases_Nigeria  Cases_Senegal  Cases_UnitedStates  Cases_Spain  \\\n",
      "ref_date                                                                  \n",
      "289 days            NaN            NaN                 NaN          NaN   \n",
      "288 days            NaN            NaN                 NaN          NaN   \n",
      "287 days            NaN            NaN                 NaN          NaN   \n",
      "286 days            NaN            NaN                 NaN          NaN   \n",
      "284 days            NaN            NaN                 NaN          NaN   \n",
      "\n",
      "          Cases_Mali  Deaths_Guinea  Deaths_Liberia  Deaths_SierraLeone  \\\n",
      "ref_date                                                                  \n",
      "289 days         NaN         1786.0             NaN              2977.0   \n",
      "288 days         NaN         1781.0             NaN              2943.0   \n",
      "287 days         NaN         1767.0          3496.0              2915.0   \n",
      "286 days         NaN            NaN          3496.0                 NaN   \n",
      "284 days         NaN         1739.0          3471.0              2827.0   \n",
      "\n",
      "          Deaths_Nigeria  Deaths_Senegal  Deaths_UnitedStates  Deaths_Spain  \\\n",
      "ref_date                                                                      \n",
      "289 days             NaN             NaN                  NaN           NaN   \n",
      "288 days             NaN             NaN                  NaN           NaN   \n",
      "287 days             NaN             NaN                  NaN           NaN   \n",
      "286 days             NaN             NaN                  NaN           NaN   \n",
      "284 days             NaN             NaN                  NaN           NaN   \n",
      "\n",
      "          Deaths_Mali ref_date  \n",
      "ref_date                        \n",
      "289 days          NaN 289 days  \n",
      "288 days          NaN 288 days  \n",
      "287 days          NaN 287 days  \n",
      "286 days          NaN 286 days  \n",
      "284 days          NaN 284 days  \n"
     ]
    }
   ],
   "source": [
    "ebola.index = ebola['ref_date'] # ref_date 컬럼을 인덱스로 설정\n",
    "# set_index() 함수를 사용할 수도 있음\n",
    "\n",
    "print(ebola.head())"
   ]
  },
  {
   "cell_type": "code",
   "execution_count": 57,
   "id": "25061b4d-a933-4501-8073-4254ada4cb0c",
   "metadata": {},
   "outputs": [
    {
     "name": "stdout",
     "output_type": "stream",
     "text": [
      "TimedeltaIndex(['289 days', '288 days', '287 days', '286 days', '284 days',\n",
      "                '281 days', '280 days', '277 days', '274 days', '273 days',\n",
      "                ...\n",
      "                 '13 days',  '10 days',   '9 days',   '7 days',   '6 days',\n",
      "                  '5 days',   '4 days',   '3 days',   '2 days',   '0 days'],\n",
      "               dtype='timedelta64[ns]', name='ref_date', length=122, freq=None)\n"
     ]
    }
   ],
   "source": [
    "print(ebola.index) "
   ]
  },
  {
   "cell_type": "markdown",
   "id": "5bbecbcc-38fb-483c-af74-cb07e7044725",
   "metadata": {},
   "source": [
    "- 위의 출력 결과에서 DateFrame 객체 ebola의 index는 TimedeltaIndex 객체이고 각 인덱스 값의 자료형은 timedelta64임을 알 수 있음"
   ]
  },
  {
   "cell_type": "markdown",
   "id": "f8f0fd60-ba13-4823-8409-6db48b18f0cb",
   "metadata": {},
   "source": [
    "- TimedeltaIndex를 이용한 데이터 추출"
   ]
  },
  {
   "cell_type": "code",
   "execution_count": 66,
   "id": "774092bc",
   "metadata": {},
   "outputs": [
    {
     "name": "stdout",
     "output_type": "stream",
     "text": [
      "               Date  Day  Cases_Guinea  Cases_Liberia  Cases_SierraLeone  \\\n",
      "ref_date                                                                   \n",
      "289 days 2015-01-05  289        2776.0            NaN            10030.0   \n",
      "288 days 2015-01-04  288        2775.0            NaN             9780.0   \n",
      "287 days 2015-01-03  287        2769.0         8166.0             9722.0   \n",
      "286 days 2015-01-02  286           NaN         8157.0                NaN   \n",
      "284 days 2014-12-31  284        2730.0         8115.0             9633.0   \n",
      "281 days 2014-12-28  281        2706.0         8018.0             9446.0   \n",
      "\n",
      "          Cases_Nigeria  Cases_Senegal  Cases_UnitedStates  Cases_Spain  \\\n",
      "ref_date                                                                  \n",
      "289 days            NaN            NaN                 NaN          NaN   \n",
      "288 days            NaN            NaN                 NaN          NaN   \n",
      "287 days            NaN            NaN                 NaN          NaN   \n",
      "286 days            NaN            NaN                 NaN          NaN   \n",
      "284 days            NaN            NaN                 NaN          NaN   \n",
      "281 days            NaN            NaN                 NaN          NaN   \n",
      "\n",
      "          Cases_Mali  Deaths_Guinea  Deaths_Liberia  Deaths_SierraLeone  \\\n",
      "ref_date                                                                  \n",
      "289 days         NaN         1786.0             NaN              2977.0   \n",
      "288 days         NaN         1781.0             NaN              2943.0   \n",
      "287 days         NaN         1767.0          3496.0              2915.0   \n",
      "286 days         NaN            NaN          3496.0                 NaN   \n",
      "284 days         NaN         1739.0          3471.0              2827.0   \n",
      "281 days         NaN         1708.0          3423.0              2758.0   \n",
      "\n",
      "          Deaths_Nigeria  Deaths_Senegal  Deaths_UnitedStates  Deaths_Spain  \\\n",
      "ref_date                                                                      \n",
      "289 days             NaN             NaN                  NaN           NaN   \n",
      "288 days             NaN             NaN                  NaN           NaN   \n",
      "287 days             NaN             NaN                  NaN           NaN   \n",
      "286 days             NaN             NaN                  NaN           NaN   \n",
      "284 days             NaN             NaN                  NaN           NaN   \n",
      "281 days             NaN             NaN                  NaN           NaN   \n",
      "\n",
      "          Deaths_Mali ref_date  \n",
      "ref_date                        \n",
      "289 days          NaN 289 days  \n",
      "288 days          NaN 288 days  \n",
      "287 days          NaN 287 days  \n",
      "286 days          NaN 286 days  \n",
      "284 days          NaN 284 days  \n",
      "281 days          NaN 281 days  \n"
     ]
    }
   ],
   "source": [
    "# 발병 289일부터 280일 사이 데이터 추출\n",
    "print(ebola.loc['289 day' : '280 day'])"
   ]
  },
  {
   "cell_type": "code",
   "execution_count": 68,
   "id": "10e13a6e-8796-43ab-b5a4-b9a65a08ab3d",
   "metadata": {},
   "outputs": [
    {
     "name": "stdout",
     "output_type": "stream",
     "text": [
      "               Date  Day  Cases_Guinea  Cases_Liberia  Cases_SierraLeone  \\\n",
      "ref_date                                                                   \n",
      "5 days   2014-03-27    5         103.0            8.0                6.0   \n",
      "4 days   2014-03-26    4          86.0            NaN                NaN   \n",
      "3 days   2014-03-25    3          86.0            NaN                NaN   \n",
      "2 days   2014-03-24    2          86.0            NaN                NaN   \n",
      "0 days   2014-03-22    0          49.0            NaN                NaN   \n",
      "\n",
      "          Cases_Nigeria  Cases_Senegal  Cases_UnitedStates  Cases_Spain  \\\n",
      "ref_date                                                                  \n",
      "5 days              NaN            NaN                 NaN          NaN   \n",
      "4 days              NaN            NaN                 NaN          NaN   \n",
      "3 days              NaN            NaN                 NaN          NaN   \n",
      "2 days              NaN            NaN                 NaN          NaN   \n",
      "0 days              NaN            NaN                 NaN          NaN   \n",
      "\n",
      "          Cases_Mali  Deaths_Guinea  Deaths_Liberia  Deaths_SierraLeone  \\\n",
      "ref_date                                                                  \n",
      "5 days           NaN           66.0             6.0                 5.0   \n",
      "4 days           NaN           62.0             NaN                 NaN   \n",
      "3 days           NaN           60.0             NaN                 NaN   \n",
      "2 days           NaN           59.0             NaN                 NaN   \n",
      "0 days           NaN           29.0             NaN                 NaN   \n",
      "\n",
      "          Deaths_Nigeria  Deaths_Senegal  Deaths_UnitedStates  Deaths_Spain  \\\n",
      "ref_date                                                                      \n",
      "5 days               NaN             NaN                  NaN           NaN   \n",
      "4 days               NaN             NaN                  NaN           NaN   \n",
      "3 days               NaN             NaN                  NaN           NaN   \n",
      "2 days               NaN             NaN                  NaN           NaN   \n",
      "0 days               NaN             NaN                  NaN           NaN   \n",
      "\n",
      "          Deaths_Mali ref_date  \n",
      "ref_date                        \n",
      "5 days            NaN   5 days  \n",
      "4 days            NaN   4 days  \n",
      "3 days            NaN   3 days  \n",
      "2 days            NaN   2 days  \n",
      "0 days            NaN   0 days  \n"
     ]
    }
   ],
   "source": [
    "# 발병 5일부터 0일 사이 데이터 추출\n",
    "print(ebola.loc['5 day' : ])"
   ]
  },
  {
   "cell_type": "markdown",
   "id": "9265bf60-9b3c-4e54-95e2-226f28529a79",
   "metadata": {},
   "source": [
    "#### 7. 리샘플링(resampling) 수행하기\n",
    "- 리샘플링: 시계열 데이터의 빈도(시간 주기)를 변환하는 과정\n",
    "\n",
    "##### 리샘플링의 종류\n",
    "- 다운샘플링 (Downsampling): 상위 빈도의 데이터를 하위 빈도로 집계하는 것\n",
    "  - 예: 초 단위 데이터를 분 단위 데이터로 변환, 일별 데이터를 월별 데이터로 변환\n",
    "\n",
    "- 업샘플링 (Upsampling): 하위 빈도의 데이터를 상위 빈도로 변환하는 것. 값 보간(interpolation) 필요\n",
    "  - 예: 일별 데이터를 시간별 데이터로 변환\n",
    " \n",
    "- 주기 변경 없는 리샘플링: 빈도는 변경하지 않고 세부 설정만 변경하는 것\n",
    "  - 예: 매주 월요일에서 매주 금요일\n",
    "\n",
    "##### 리샘플링 활용 사례\n",
    "- 데이터의 노이즈를 줄이고 패턴을 요약하기 위해 다운샘플링 수행\n",
    "- 누락된 데이터를 보간하거나 분석을 위한 정렬을 위해 업샘플링 수행\n",
    "- 주기성 데이터 분석: 주별, 월별, 분기별, 연도별로 데이터 집계"
   ]
  },
  {
   "cell_type": "markdown",
   "id": "ed736bdd-aa58-43fa-aa64-f04169ff207d",
   "metadata": {},
   "source": [
    "##### IMPT pandas의 리샘플링 기능\n",
    "- resample() 함수 활용\n",
    "  - resample() 함수의 입력으로 원하는 시간 주기를 전달하여 인덱스의 시간 주기를 변경할 수 있음\n",
    "  - 예: 일 단위로 되어 있는 데이터를 월 단위로 변경하면서 평균이나 합 등으로 요약"
   ]
  },
  {
   "cell_type": "markdown",
   "id": "ea6dc4ec",
   "metadata": {},
   "source": [
    "ME(Month End) 월의 막일\\\n",
    "MS(Month Start) 매월 1일\\\n",
    "W(Week) 주 단위\n"
   ]
  },
  {
   "cell_type": "code",
   "execution_count": 20,
   "id": "dea7aaf1",
   "metadata": {},
   "outputs": [
    {
     "data": {
      "text/html": [
       "<div>\n",
       "<style scoped>\n",
       "    .dataframe tbody tr th:only-of-type {\n",
       "        vertical-align: middle;\n",
       "    }\n",
       "\n",
       "    .dataframe tbody tr th {\n",
       "        vertical-align: top;\n",
       "    }\n",
       "\n",
       "    .dataframe thead th {\n",
       "        text-align: right;\n",
       "    }\n",
       "</style>\n",
       "<table border=\"1\" class=\"dataframe\">\n",
       "  <thead>\n",
       "    <tr style=\"text-align: right;\">\n",
       "      <th></th>\n",
       "      <th>Day</th>\n",
       "      <th>Cases_Guinea</th>\n",
       "      <th>Cases_Liberia</th>\n",
       "      <th>Cases_SierraLeone</th>\n",
       "      <th>Cases_Nigeria</th>\n",
       "      <th>Cases_Senegal</th>\n",
       "      <th>Cases_UnitedStates</th>\n",
       "      <th>Cases_Spain</th>\n",
       "      <th>Cases_Mali</th>\n",
       "      <th>Deaths_Guinea</th>\n",
       "      <th>Deaths_Liberia</th>\n",
       "      <th>Deaths_SierraLeone</th>\n",
       "      <th>Deaths_Nigeria</th>\n",
       "      <th>Deaths_Senegal</th>\n",
       "      <th>Deaths_UnitedStates</th>\n",
       "      <th>Deaths_Spain</th>\n",
       "      <th>Deaths_Mali</th>\n",
       "    </tr>\n",
       "    <tr>\n",
       "      <th>Date</th>\n",
       "      <th></th>\n",
       "      <th></th>\n",
       "      <th></th>\n",
       "      <th></th>\n",
       "      <th></th>\n",
       "      <th></th>\n",
       "      <th></th>\n",
       "      <th></th>\n",
       "      <th></th>\n",
       "      <th></th>\n",
       "      <th></th>\n",
       "      <th></th>\n",
       "      <th></th>\n",
       "      <th></th>\n",
       "      <th></th>\n",
       "      <th></th>\n",
       "      <th></th>\n",
       "    </tr>\n",
       "  </thead>\n",
       "  <tbody>\n",
       "    <tr>\n",
       "      <th>2015-01-05</th>\n",
       "      <td>289</td>\n",
       "      <td>2776.0</td>\n",
       "      <td>NaN</td>\n",
       "      <td>10030.0</td>\n",
       "      <td>NaN</td>\n",
       "      <td>NaN</td>\n",
       "      <td>NaN</td>\n",
       "      <td>NaN</td>\n",
       "      <td>NaN</td>\n",
       "      <td>1786.0</td>\n",
       "      <td>NaN</td>\n",
       "      <td>2977.0</td>\n",
       "      <td>NaN</td>\n",
       "      <td>NaN</td>\n",
       "      <td>NaN</td>\n",
       "      <td>NaN</td>\n",
       "      <td>NaN</td>\n",
       "    </tr>\n",
       "    <tr>\n",
       "      <th>2015-01-04</th>\n",
       "      <td>288</td>\n",
       "      <td>2775.0</td>\n",
       "      <td>NaN</td>\n",
       "      <td>9780.0</td>\n",
       "      <td>NaN</td>\n",
       "      <td>NaN</td>\n",
       "      <td>NaN</td>\n",
       "      <td>NaN</td>\n",
       "      <td>NaN</td>\n",
       "      <td>1781.0</td>\n",
       "      <td>NaN</td>\n",
       "      <td>2943.0</td>\n",
       "      <td>NaN</td>\n",
       "      <td>NaN</td>\n",
       "      <td>NaN</td>\n",
       "      <td>NaN</td>\n",
       "      <td>NaN</td>\n",
       "    </tr>\n",
       "    <tr>\n",
       "      <th>2015-01-03</th>\n",
       "      <td>287</td>\n",
       "      <td>2769.0</td>\n",
       "      <td>8166.0</td>\n",
       "      <td>9722.0</td>\n",
       "      <td>NaN</td>\n",
       "      <td>NaN</td>\n",
       "      <td>NaN</td>\n",
       "      <td>NaN</td>\n",
       "      <td>NaN</td>\n",
       "      <td>1767.0</td>\n",
       "      <td>3496.0</td>\n",
       "      <td>2915.0</td>\n",
       "      <td>NaN</td>\n",
       "      <td>NaN</td>\n",
       "      <td>NaN</td>\n",
       "      <td>NaN</td>\n",
       "      <td>NaN</td>\n",
       "    </tr>\n",
       "    <tr>\n",
       "      <th>2015-01-02</th>\n",
       "      <td>286</td>\n",
       "      <td>NaN</td>\n",
       "      <td>8157.0</td>\n",
       "      <td>NaN</td>\n",
       "      <td>NaN</td>\n",
       "      <td>NaN</td>\n",
       "      <td>NaN</td>\n",
       "      <td>NaN</td>\n",
       "      <td>NaN</td>\n",
       "      <td>NaN</td>\n",
       "      <td>3496.0</td>\n",
       "      <td>NaN</td>\n",
       "      <td>NaN</td>\n",
       "      <td>NaN</td>\n",
       "      <td>NaN</td>\n",
       "      <td>NaN</td>\n",
       "      <td>NaN</td>\n",
       "    </tr>\n",
       "    <tr>\n",
       "      <th>2014-12-31</th>\n",
       "      <td>284</td>\n",
       "      <td>2730.0</td>\n",
       "      <td>8115.0</td>\n",
       "      <td>9633.0</td>\n",
       "      <td>NaN</td>\n",
       "      <td>NaN</td>\n",
       "      <td>NaN</td>\n",
       "      <td>NaN</td>\n",
       "      <td>NaN</td>\n",
       "      <td>1739.0</td>\n",
       "      <td>3471.0</td>\n",
       "      <td>2827.0</td>\n",
       "      <td>NaN</td>\n",
       "      <td>NaN</td>\n",
       "      <td>NaN</td>\n",
       "      <td>NaN</td>\n",
       "      <td>NaN</td>\n",
       "    </tr>\n",
       "  </tbody>\n",
       "</table>\n",
       "</div>"
      ],
      "text/plain": [
       "            Day  Cases_Guinea  Cases_Liberia  Cases_SierraLeone  \\\n",
       "Date                                                              \n",
       "2015-01-05  289        2776.0            NaN            10030.0   \n",
       "2015-01-04  288        2775.0            NaN             9780.0   \n",
       "2015-01-03  287        2769.0         8166.0             9722.0   \n",
       "2015-01-02  286           NaN         8157.0                NaN   \n",
       "2014-12-31  284        2730.0         8115.0             9633.0   \n",
       "\n",
       "            Cases_Nigeria  Cases_Senegal  Cases_UnitedStates  Cases_Spain  \\\n",
       "Date                                                                        \n",
       "2015-01-05            NaN            NaN                 NaN          NaN   \n",
       "2015-01-04            NaN            NaN                 NaN          NaN   \n",
       "2015-01-03            NaN            NaN                 NaN          NaN   \n",
       "2015-01-02            NaN            NaN                 NaN          NaN   \n",
       "2014-12-31            NaN            NaN                 NaN          NaN   \n",
       "\n",
       "            Cases_Mali  Deaths_Guinea  Deaths_Liberia  Deaths_SierraLeone  \\\n",
       "Date                                                                        \n",
       "2015-01-05         NaN         1786.0             NaN              2977.0   \n",
       "2015-01-04         NaN         1781.0             NaN              2943.0   \n",
       "2015-01-03         NaN         1767.0          3496.0              2915.0   \n",
       "2015-01-02         NaN            NaN          3496.0                 NaN   \n",
       "2014-12-31         NaN         1739.0          3471.0              2827.0   \n",
       "\n",
       "            Deaths_Nigeria  Deaths_Senegal  Deaths_UnitedStates  Deaths_Spain  \\\n",
       "Date                                                                            \n",
       "2015-01-05             NaN             NaN                  NaN           NaN   \n",
       "2015-01-04             NaN             NaN                  NaN           NaN   \n",
       "2015-01-03             NaN             NaN                  NaN           NaN   \n",
       "2015-01-02             NaN             NaN                  NaN           NaN   \n",
       "2014-12-31             NaN             NaN                  NaN           NaN   \n",
       "\n",
       "            Deaths_Mali  \n",
       "Date                     \n",
       "2015-01-05          NaN  \n",
       "2015-01-04          NaN  \n",
       "2015-01-03          NaN  \n",
       "2015-01-02          NaN  \n",
       "2014-12-31          NaN  "
      ]
     },
     "execution_count": 20,
     "metadata": {},
     "output_type": "execute_result"
    }
   ],
   "source": [
    "ebola = pd.read_csv('../country_timeseries.csv', parse_dates=[\"Date\"])\n",
    "ebola = ebola.set_index('Date')\n",
    "\n",
    "ebola.head()"
   ]
  },
  {
   "cell_type": "markdown",
   "id": "8f67234b-3a3b-4779-9954-9efcf15289a8",
   "metadata": {},
   "source": [
    "- 다운샘플링 예제 1\n",
    "  - 에볼라 발병 데이터에서 일별 데이터를 평균으로 집계하여 월 단위로 변경"
   ]
  },
  {
   "cell_type": "code",
   "execution_count": 21,
   "id": "01142437-54bd-4ba6-8231-2735b5ef8c27",
   "metadata": {},
   "outputs": [
    {
     "name": "stdout",
     "output_type": "stream",
     "text": [
      "                   Day  Cases_Guinea  Cases_Liberia  Cases_SierraLeone\n",
      "Date                                                                  \n",
      "2014-03-31    4.500000     94.500000       6.500000           3.333333\n",
      "2014-04-30   24.333333    177.818182      24.555556           2.200000\n",
      "2014-05-31   51.888889    248.777778      12.555556           7.333333\n",
      "2014-06-30   84.636364    373.428571      35.500000         125.571429\n",
      "2014-07-31  115.700000    423.000000     212.300000         420.500000\n",
      "2014-08-31  145.090909    559.818182     868.818182         844.000000\n",
      "2014-09-30  177.500000    967.888889    2815.625000        1726.000000\n",
      "2014-10-31  207.470588   1500.444444    4758.750000        3668.111111\n",
      "2014-11-30  237.214286   1950.500000    7039.000000        5843.625000\n",
      "2014-12-31  271.181818   2579.625000    7902.571429        8985.875000\n",
      "2015-01-31  287.500000   2773.333333    8161.500000        9844.000000\n"
     ]
    }
   ],
   "source": [
    "down = ebola.resample('ME').mean() \n",
    "# ME: 월 주기(매월 말일)로 설정\n",
    "\n",
    "print(down.iloc[:, :4]) # 4개 열만 추출하여 출력"
   ]
  },
  {
   "cell_type": "markdown",
   "id": "fd099f39-7586-4f0a-830a-3d4c114c0434",
   "metadata": {},
   "source": [
    "- 다운샘플링 예제 2"
   ]
  },
  {
   "cell_type": "code",
   "execution_count": 22,
   "id": "c910b7a2-5425-47b5-a71b-0caac6b4741d",
   "metadata": {},
   "outputs": [
    {
     "name": "stdout",
     "output_type": "stream",
     "text": [
      "                   Day  Cases_Guinea  Cases_Liberia  Cases_SierraLeone\n",
      "Date                                                                  \n",
      "2014-03-01    4.500000     94.500000       6.500000           3.333333\n",
      "2014-04-01   24.333333    177.818182      24.555556           2.200000\n",
      "2014-05-01   51.888889    248.777778      12.555556           7.333333\n",
      "2014-06-01   84.636364    373.428571      35.500000         125.571429\n",
      "2014-07-01  115.700000    423.000000     212.300000         420.500000\n",
      "2014-08-01  145.090909    559.818182     868.818182         844.000000\n",
      "2014-09-01  177.500000    967.888889    2815.625000        1726.000000\n",
      "2014-10-01  207.470588   1500.444444    4758.750000        3668.111111\n",
      "2014-11-01  237.214286   1950.500000    7039.000000        5843.625000\n",
      "2014-12-01  271.181818   2579.625000    7902.571429        8985.875000\n",
      "2015-01-01  287.500000   2773.333333    8161.500000        9844.000000\n"
     ]
    }
   ],
   "source": [
    "down2 = ebola.resample('MS').mean() \n",
    "# MS: 월 주기(매월 1일)로 설정\n",
    "\n",
    "print(down2.iloc[:, :4]) # 4개 열만 추출하여 출력"
   ]
  },
  {
   "cell_type": "markdown",
   "id": "7d7010f8-9f4d-402e-8c26-a2a3514a6e1f",
   "metadata": {},
   "source": [
    "- 다운샘플링 예제 3\n",
    "  - 에볼라 발병 데이터에서 일별 데이터를 주 단위 합계로 변경"
   ]
  },
  {
   "cell_type": "code",
   "execution_count": 23,
   "id": "49e22f02-4554-432e-984c-bd5d44ca38b6",
   "metadata": {},
   "outputs": [
    {
     "name": "stdout",
     "output_type": "stream",
     "text": [
      "             Day  Cases_Guinea  Cases_Liberia  Cases_SierraLeone\n",
      "Date                                                            \n",
      "2014-03-23     0          49.0            0.0                0.0\n",
      "2014-03-30    27         585.0           18.0                8.0\n",
      "2014-04-06    32         392.0           34.0                6.0\n",
      "2014-04-13    54         468.0           72.0                6.0\n",
      "2014-04-20   127         776.0           54.0               12.0\n",
      "2014-04-27   161         442.0           69.0                0.0\n",
      "2014-05-04    82         457.0           26.0                0.0\n",
      "2014-05-11   139         704.0           38.0                0.0\n",
      "2014-05-18    51         248.0           12.0                0.0\n",
      "2014-05-25    62         258.0           12.0                0.0\n",
      "2014-06-01   204         900.0           38.0              145.0\n",
      "2014-06-08   148         344.0           26.0               81.0\n",
      "2014-06-15    80         351.0           13.0               89.0\n",
      "2014-06-22   532        1178.0          125.0              391.0\n",
      "2014-06-29     0           0.0            0.0                0.0\n",
      "2014-07-06   308        1233.0          353.0              796.0\n",
      "2014-07-13   220         815.0          314.0              723.0\n",
      "2014-07-20   351        1236.0          594.0             1293.0\n",
      "2014-07-27   249         887.0          578.0             1058.0\n",
      "2014-08-03   261         957.0          859.0             1220.0\n",
      "2014-08-10   412        1496.0         1669.0             2138.0\n",
      "2014-08-17   433        1572.0         2290.0             2441.0\n",
      "2014-08-24   300        1186.0         2054.0             1817.0\n",
      "2014-08-31   319        1419.0         3076.0             2242.0\n",
      "2014-09-07   336        1673.0         3952.0             2685.0\n",
      "2014-09-14   694        2777.0         5117.0             4771.0\n",
      "2014-09-21   725        2030.0         6302.0             3753.0\n",
      "2014-09-28   375        2231.0         7154.0             4325.0\n",
      "2014-10-05   586        2497.0         7758.0             5226.0\n",
      "2014-10-12   806        2822.0         8325.0             6202.0\n",
      "2014-10-19   832        3059.0         8927.0             7116.0\n",
      "2014-10-26   643        1553.0         6535.0             3896.0\n",
      "2014-11-02   885        5304.0         6525.0            15332.0\n",
      "2014-11-09   916        3638.0        13441.0            10230.0\n",
      "2014-11-16   944        3890.0        13947.0            11659.0\n",
      "2014-11-23   732        4181.0        14250.0            12789.0\n",
      "2014-11-30   504        2164.0         7635.0             7312.0\n",
      "2014-12-07   516        2292.0         7719.0             7897.0\n",
      "2014-12-14   529        2416.0         7797.0             8356.0\n",
      "2014-12-21   816        5168.0        15692.0            17943.0\n",
      "2014-12-28   838        8031.0        15995.0            28058.0\n",
      "2015-01-04  1145        8274.0        24438.0            29135.0\n",
      "2015-01-11   289        2776.0            0.0            10030.0\n"
     ]
    }
   ],
   "source": [
    "downWeek = ebola.resample('W').sum()\n",
    "# W: 주 단위로 설정\n",
    "\n",
    "print(downWeek.iloc[:, :4])"
   ]
  },
  {
   "cell_type": "markdown",
   "id": "fc7bb5dd-b89d-4589-bfd9-a95a211cc45f",
   "metadata": {},
   "source": [
    "- 업샘플링 예제 1\n",
    "  - 위 다운샘플링 예제 1의 월 단위 데이터를 업샘플링 하여 일별 데이터로 변경\n",
    "  - 존재하지 않는 데이터는 NaN으로 채움"
   ]
  },
  {
   "cell_type": "markdown",
   "id": "ba6c5353",
   "metadata": {},
   "source": [
    "up = down.resample('D').asfreq() \n",
    "upDay = downWeek.resample('D').asfreq()"
   ]
  },
  {
   "cell_type": "code",
   "execution_count": 24,
   "id": "4b3b628f",
   "metadata": {},
   "outputs": [
    {
     "name": "stdout",
     "output_type": "stream",
     "text": [
      "                  Day  Cases_Guinea\n",
      "Date                               \n",
      "2014-04-01        NaN           NaN\n",
      "2014-04-02        NaN           NaN\n",
      "2014-04-03        NaN           NaN\n",
      "2014-04-04        NaN           NaN\n",
      "2014-04-05        NaN           NaN\n",
      "2014-04-06        NaN           NaN\n",
      "2014-04-07        NaN           NaN\n",
      "2014-04-08        NaN           NaN\n",
      "2014-04-09        NaN           NaN\n",
      "2014-04-10        NaN           NaN\n",
      "2014-04-11        NaN           NaN\n",
      "2014-04-12        NaN           NaN\n",
      "2014-04-13        NaN           NaN\n",
      "2014-04-14        NaN           NaN\n",
      "2014-04-15        NaN           NaN\n",
      "2014-04-16        NaN           NaN\n",
      "2014-04-17        NaN           NaN\n",
      "2014-04-18        NaN           NaN\n",
      "2014-04-19        NaN           NaN\n",
      "2014-04-20        NaN           NaN\n",
      "2014-04-21        NaN           NaN\n",
      "2014-04-22        NaN           NaN\n",
      "2014-04-23        NaN           NaN\n",
      "2014-04-24        NaN           NaN\n",
      "2014-04-25        NaN           NaN\n",
      "2014-04-26        NaN           NaN\n",
      "2014-04-27        NaN           NaN\n",
      "2014-04-28        NaN           NaN\n",
      "2014-04-29        NaN           NaN\n",
      "2014-04-30  24.333333    177.818182\n"
     ]
    }
   ],
   "source": [
    "up = down.resample('D').asfreq() \n",
    "# D: 일 주기\n",
    "# asfreq() 함수: 리샘플링 후 집계나 계산 없이 값이 존재하는 시간에만 값을 유지하고, 없는 시간 간격은 NaN으로 채움\n",
    "\n",
    "print(up.loc['2014-04', 'Day':'Cases_Guinea'])"
   ]
  },
  {
   "cell_type": "markdown",
   "id": "538d81cc-a8ce-430f-a13e-75dd7ccb645e",
   "metadata": {},
   "source": [
    "- 업샘플링 예제 2\n",
    "  - 위 다운샘플링 예제 3의 주 단위 데이터를 업샘플링 하여 일별 데이터로 변경\n",
    "  - 존재하지 않는 데이터는 NaN으로 채움"
   ]
  },
  {
   "cell_type": "code",
   "execution_count": 30,
   "id": "f9388b57-7ab3-4e92-9207-e61196a1b0b3",
   "metadata": {},
   "outputs": [
    {
     "data": {
      "text/html": [
       "<div>\n",
       "<style scoped>\n",
       "    .dataframe tbody tr th:only-of-type {\n",
       "        vertical-align: middle;\n",
       "    }\n",
       "\n",
       "    .dataframe tbody tr th {\n",
       "        vertical-align: top;\n",
       "    }\n",
       "\n",
       "    .dataframe thead th {\n",
       "        text-align: right;\n",
       "    }\n",
       "</style>\n",
       "<table border=\"1\" class=\"dataframe\">\n",
       "  <thead>\n",
       "    <tr style=\"text-align: right;\">\n",
       "      <th></th>\n",
       "      <th>Day</th>\n",
       "      <th>Cases_Guinea</th>\n",
       "      <th>Cases_Liberia</th>\n",
       "      <th>Cases_SierraLeone</th>\n",
       "    </tr>\n",
       "    <tr>\n",
       "      <th>Date</th>\n",
       "      <th></th>\n",
       "      <th></th>\n",
       "      <th></th>\n",
       "      <th></th>\n",
       "    </tr>\n",
       "  </thead>\n",
       "  <tbody>\n",
       "    <tr>\n",
       "      <th>2014-03-23</th>\n",
       "      <td>0.0</td>\n",
       "      <td>49.0</td>\n",
       "      <td>0.0</td>\n",
       "      <td>0.0</td>\n",
       "    </tr>\n",
       "    <tr>\n",
       "      <th>2014-03-24</th>\n",
       "      <td>NaN</td>\n",
       "      <td>NaN</td>\n",
       "      <td>NaN</td>\n",
       "      <td>NaN</td>\n",
       "    </tr>\n",
       "    <tr>\n",
       "      <th>2014-03-25</th>\n",
       "      <td>NaN</td>\n",
       "      <td>NaN</td>\n",
       "      <td>NaN</td>\n",
       "      <td>NaN</td>\n",
       "    </tr>\n",
       "    <tr>\n",
       "      <th>2014-03-26</th>\n",
       "      <td>NaN</td>\n",
       "      <td>NaN</td>\n",
       "      <td>NaN</td>\n",
       "      <td>NaN</td>\n",
       "    </tr>\n",
       "    <tr>\n",
       "      <th>2014-03-27</th>\n",
       "      <td>NaN</td>\n",
       "      <td>NaN</td>\n",
       "      <td>NaN</td>\n",
       "      <td>NaN</td>\n",
       "    </tr>\n",
       "    <tr>\n",
       "      <th>2014-03-28</th>\n",
       "      <td>NaN</td>\n",
       "      <td>NaN</td>\n",
       "      <td>NaN</td>\n",
       "      <td>NaN</td>\n",
       "    </tr>\n",
       "    <tr>\n",
       "      <th>2014-03-29</th>\n",
       "      <td>NaN</td>\n",
       "      <td>NaN</td>\n",
       "      <td>NaN</td>\n",
       "      <td>NaN</td>\n",
       "    </tr>\n",
       "    <tr>\n",
       "      <th>2014-03-30</th>\n",
       "      <td>27.0</td>\n",
       "      <td>585.0</td>\n",
       "      <td>18.0</td>\n",
       "      <td>8.0</td>\n",
       "    </tr>\n",
       "    <tr>\n",
       "      <th>2014-03-31</th>\n",
       "      <td>NaN</td>\n",
       "      <td>NaN</td>\n",
       "      <td>NaN</td>\n",
       "      <td>NaN</td>\n",
       "    </tr>\n",
       "    <tr>\n",
       "      <th>2014-04-01</th>\n",
       "      <td>NaN</td>\n",
       "      <td>NaN</td>\n",
       "      <td>NaN</td>\n",
       "      <td>NaN</td>\n",
       "    </tr>\n",
       "  </tbody>\n",
       "</table>\n",
       "</div>"
      ],
      "text/plain": [
       "             Day  Cases_Guinea  Cases_Liberia  Cases_SierraLeone\n",
       "Date                                                            \n",
       "2014-03-23   0.0          49.0            0.0                0.0\n",
       "2014-03-24   NaN           NaN            NaN                NaN\n",
       "2014-03-25   NaN           NaN            NaN                NaN\n",
       "2014-03-26   NaN           NaN            NaN                NaN\n",
       "2014-03-27   NaN           NaN            NaN                NaN\n",
       "2014-03-28   NaN           NaN            NaN                NaN\n",
       "2014-03-29   NaN           NaN            NaN                NaN\n",
       "2014-03-30  27.0         585.0           18.0                8.0\n",
       "2014-03-31   NaN           NaN            NaN                NaN\n",
       "2014-04-01   NaN           NaN            NaN                NaN"
      ]
     },
     "execution_count": 30,
     "metadata": {},
     "output_type": "execute_result"
    }
   ],
   "source": [
    "upDay = downWeek.resample('D').asfreq()\n",
    "\n",
    "\n",
    "upDay.iloc[:10, :4] # 첫 10개 행, 4개 열만 추출"
   ]
  },
  {
   "cell_type": "markdown",
   "id": "d2826814",
   "metadata": {},
   "source": [
    "##### 보간 방법은 왜 사용하는가?"
   ]
  },
  {
   "cell_type": "markdown",
   "id": "97a93e1a",
   "metadata": {},
   "source": [
    "데이터 타입을 변환하면서 생기는 데이터 누수를 보완하기 위해서 존재한다.\n",
    "\n",
    "선형 :\n",
    "- lin_upDay = upDay.interpolate(method='linear')\n",
    "\n",
    "비선형 :\n",
    "1. pol_upDay = upDay.interpolate(method='polynomial', order=2)\\\n",
    "2. pol_upDay = upDay.interpolate(method='spline', order=3) "
   ]
  },
  {
   "cell_type": "markdown",
   "id": "9a9abba7-7ca9-43c3-a2c2-ef76535bb2b6",
   "metadata": {},
   "source": [
    "- 비어있는 데이터(NaN)를 선형 보간(linear interpolation) 방법으로 값을 채움\n",
    "  - 주어진 두 점 사이를 직선으로 연결하여 중간 값을 계산하는 방식\n",
    "  - 선형 보간은 데이터의 결측값을 채우는 빠르고 간단한 방식이나 두 데이터 사이의 값이 비선형 관계인 경우 정확도가 떨어질 수 있음"
   ]
  },
  {
   "cell_type": "code",
   "execution_count": 115,
   "id": "a976d3d1-a69e-4d31-92de-df6bf380c052",
   "metadata": {},
   "outputs": [
    {
     "data": {
      "text/html": [
       "<div>\n",
       "<style scoped>\n",
       "    .dataframe tbody tr th:only-of-type {\n",
       "        vertical-align: middle;\n",
       "    }\n",
       "\n",
       "    .dataframe tbody tr th {\n",
       "        vertical-align: top;\n",
       "    }\n",
       "\n",
       "    .dataframe thead th {\n",
       "        text-align: right;\n",
       "    }\n",
       "</style>\n",
       "<table border=\"1\" class=\"dataframe\">\n",
       "  <thead>\n",
       "    <tr style=\"text-align: right;\">\n",
       "      <th></th>\n",
       "      <th>Day</th>\n",
       "      <th>Cases_Guinea</th>\n",
       "      <th>Cases_Liberia</th>\n",
       "      <th>Cases_SierraLeone</th>\n",
       "    </tr>\n",
       "    <tr>\n",
       "      <th>Date</th>\n",
       "      <th></th>\n",
       "      <th></th>\n",
       "      <th></th>\n",
       "      <th></th>\n",
       "    </tr>\n",
       "  </thead>\n",
       "  <tbody>\n",
       "    <tr>\n",
       "      <th>2014-03-23</th>\n",
       "      <td>0.000000</td>\n",
       "      <td>49.000000</td>\n",
       "      <td>0.000000</td>\n",
       "      <td>0.000000</td>\n",
       "    </tr>\n",
       "    <tr>\n",
       "      <th>2014-03-24</th>\n",
       "      <td>3.857143</td>\n",
       "      <td>125.571429</td>\n",
       "      <td>2.571429</td>\n",
       "      <td>1.142857</td>\n",
       "    </tr>\n",
       "    <tr>\n",
       "      <th>2014-03-25</th>\n",
       "      <td>7.714286</td>\n",
       "      <td>202.142857</td>\n",
       "      <td>5.142857</td>\n",
       "      <td>2.285714</td>\n",
       "    </tr>\n",
       "    <tr>\n",
       "      <th>2014-03-26</th>\n",
       "      <td>11.571429</td>\n",
       "      <td>278.714286</td>\n",
       "      <td>7.714286</td>\n",
       "      <td>3.428571</td>\n",
       "    </tr>\n",
       "    <tr>\n",
       "      <th>2014-03-27</th>\n",
       "      <td>15.428571</td>\n",
       "      <td>355.285714</td>\n",
       "      <td>10.285714</td>\n",
       "      <td>4.571429</td>\n",
       "    </tr>\n",
       "    <tr>\n",
       "      <th>2014-03-28</th>\n",
       "      <td>19.285714</td>\n",
       "      <td>431.857143</td>\n",
       "      <td>12.857143</td>\n",
       "      <td>5.714286</td>\n",
       "    </tr>\n",
       "    <tr>\n",
       "      <th>2014-03-29</th>\n",
       "      <td>23.142857</td>\n",
       "      <td>508.428571</td>\n",
       "      <td>15.428571</td>\n",
       "      <td>6.857143</td>\n",
       "    </tr>\n",
       "    <tr>\n",
       "      <th>2014-03-30</th>\n",
       "      <td>27.000000</td>\n",
       "      <td>585.000000</td>\n",
       "      <td>18.000000</td>\n",
       "      <td>8.000000</td>\n",
       "    </tr>\n",
       "    <tr>\n",
       "      <th>2014-03-31</th>\n",
       "      <td>27.714286</td>\n",
       "      <td>557.428571</td>\n",
       "      <td>20.285714</td>\n",
       "      <td>7.714286</td>\n",
       "    </tr>\n",
       "    <tr>\n",
       "      <th>2014-04-01</th>\n",
       "      <td>28.428571</td>\n",
       "      <td>529.857143</td>\n",
       "      <td>22.571429</td>\n",
       "      <td>7.428571</td>\n",
       "    </tr>\n",
       "  </tbody>\n",
       "</table>\n",
       "</div>"
      ],
      "text/plain": [
       "                  Day  Cases_Guinea  Cases_Liberia  Cases_SierraLeone\n",
       "Date                                                                 \n",
       "2014-03-23   0.000000     49.000000       0.000000           0.000000\n",
       "2014-03-24   3.857143    125.571429       2.571429           1.142857\n",
       "2014-03-25   7.714286    202.142857       5.142857           2.285714\n",
       "2014-03-26  11.571429    278.714286       7.714286           3.428571\n",
       "2014-03-27  15.428571    355.285714      10.285714           4.571429\n",
       "2014-03-28  19.285714    431.857143      12.857143           5.714286\n",
       "2014-03-29  23.142857    508.428571      15.428571           6.857143\n",
       "2014-03-30  27.000000    585.000000      18.000000           8.000000\n",
       "2014-03-31  27.714286    557.428571      20.285714           7.714286\n",
       "2014-04-01  28.428571    529.857143      22.571429           7.428571"
      ]
     },
     "execution_count": 115,
     "metadata": {},
     "output_type": "execute_result"
    }
   ],
   "source": [
    "lin_upDay = upDay.interpolate(method='linear')\n",
    "\n",
    "lin_upDay.iloc[:10, :4]"
   ]
  },
  {
   "cell_type": "markdown",
   "id": "51cfb8a4-43df-4335-9a71-96171a190d17",
   "metadata": {},
   "source": [
    "- 비선형 보간 방법으로 Polynomial, Spline interpolation(보간) 방법 등이 있음\n",
    "  - Polynomial(다항식) 보간: 두 데이터 사이 값을 잘 근사하는 n차 다항식을 생성하고 이를 이용해 결측값을 추정하는 방법\n",
    "  - Spline 보간: 구간별로 여러 개의 저차 다항식을 사용하여 값을 추정하는 방법. 각 구간의 곡선이 부드럽게 연결될 수 있음"
   ]
  },
  {
   "cell_type": "code",
   "execution_count": 117,
   "id": "9a58bb8c-a097-44de-86e4-9525f1522109",
   "metadata": {},
   "outputs": [
    {
     "data": {
      "text/html": [
       "<div>\n",
       "<style scoped>\n",
       "    .dataframe tbody tr th:only-of-type {\n",
       "        vertical-align: middle;\n",
       "    }\n",
       "\n",
       "    .dataframe tbody tr th {\n",
       "        vertical-align: top;\n",
       "    }\n",
       "\n",
       "    .dataframe thead th {\n",
       "        text-align: right;\n",
       "    }\n",
       "</style>\n",
       "<table border=\"1\" class=\"dataframe\">\n",
       "  <thead>\n",
       "    <tr style=\"text-align: right;\">\n",
       "      <th></th>\n",
       "      <th>Day</th>\n",
       "      <th>Cases_Guinea</th>\n",
       "      <th>Cases_Liberia</th>\n",
       "      <th>Cases_SierraLeone</th>\n",
       "    </tr>\n",
       "    <tr>\n",
       "      <th>Date</th>\n",
       "      <th></th>\n",
       "      <th></th>\n",
       "      <th></th>\n",
       "      <th></th>\n",
       "    </tr>\n",
       "  </thead>\n",
       "  <tbody>\n",
       "    <tr>\n",
       "      <th>2014-03-23</th>\n",
       "      <td>0.000000</td>\n",
       "      <td>49.000000</td>\n",
       "      <td>0.000000</td>\n",
       "      <td>0.000000</td>\n",
       "    </tr>\n",
       "    <tr>\n",
       "      <th>2014-03-24</th>\n",
       "      <td>5.531341</td>\n",
       "      <td>180.432066</td>\n",
       "      <td>3.120102</td>\n",
       "      <td>1.864815</td>\n",
       "    </tr>\n",
       "    <tr>\n",
       "      <th>2014-03-25</th>\n",
       "      <td>10.504616</td>\n",
       "      <td>293.577253</td>\n",
       "      <td>6.057312</td>\n",
       "      <td>3.488977</td>\n",
       "    </tr>\n",
       "    <tr>\n",
       "      <th>2014-03-26</th>\n",
       "      <td>14.919824</td>\n",
       "      <td>388.435560</td>\n",
       "      <td>8.811632</td>\n",
       "      <td>4.872486</td>\n",
       "    </tr>\n",
       "    <tr>\n",
       "      <th>2014-03-27</th>\n",
       "      <td>18.776967</td>\n",
       "      <td>465.006989</td>\n",
       "      <td>11.383061</td>\n",
       "      <td>6.015343</td>\n",
       "    </tr>\n",
       "    <tr>\n",
       "      <th>2014-03-28</th>\n",
       "      <td>22.076044</td>\n",
       "      <td>523.291538</td>\n",
       "      <td>13.771598</td>\n",
       "      <td>6.917548</td>\n",
       "    </tr>\n",
       "    <tr>\n",
       "      <th>2014-03-29</th>\n",
       "      <td>24.817055</td>\n",
       "      <td>563.289209</td>\n",
       "      <td>15.977245</td>\n",
       "      <td>7.579100</td>\n",
       "    </tr>\n",
       "    <tr>\n",
       "      <th>2014-03-30</th>\n",
       "      <td>27.000000</td>\n",
       "      <td>585.000000</td>\n",
       "      <td>18.000000</td>\n",
       "      <td>8.000000</td>\n",
       "    </tr>\n",
       "    <tr>\n",
       "      <th>2014-03-31</th>\n",
       "      <td>28.624879</td>\n",
       "      <td>588.423912</td>\n",
       "      <td>19.839864</td>\n",
       "      <td>8.180247</td>\n",
       "    </tr>\n",
       "    <tr>\n",
       "      <th>2014-04-01</th>\n",
       "      <td>29.691692</td>\n",
       "      <td>573.560945</td>\n",
       "      <td>21.496838</td>\n",
       "      <td>8.119842</td>\n",
       "    </tr>\n",
       "  </tbody>\n",
       "</table>\n",
       "</div>"
      ],
      "text/plain": [
       "                  Day  Cases_Guinea  Cases_Liberia  Cases_SierraLeone\n",
       "Date                                                                 \n",
       "2014-03-23   0.000000     49.000000       0.000000           0.000000\n",
       "2014-03-24   5.531341    180.432066       3.120102           1.864815\n",
       "2014-03-25  10.504616    293.577253       6.057312           3.488977\n",
       "2014-03-26  14.919824    388.435560       8.811632           4.872486\n",
       "2014-03-27  18.776967    465.006989      11.383061           6.015343\n",
       "2014-03-28  22.076044    523.291538      13.771598           6.917548\n",
       "2014-03-29  24.817055    563.289209      15.977245           7.579100\n",
       "2014-03-30  27.000000    585.000000      18.000000           8.000000\n",
       "2014-03-31  28.624879    588.423912      19.839864           8.180247\n",
       "2014-04-01  29.691692    573.560945      21.496838           8.119842"
      ]
     },
     "execution_count": 117,
     "metadata": {},
     "output_type": "execute_result"
    }
   ],
   "source": [
    "pol_upDay = upDay.interpolate(method='polynomial', order=2) # 다항식 보간 방법으로 보간 실행\n",
    "\n",
    "pol_upDay.iloc[:10, :4]"
   ]
  },
  {
   "cell_type": "code",
   "execution_count": 118,
   "id": "54caefb5-3652-4379-95f8-1a9c3de0a0f0",
   "metadata": {},
   "outputs": [
    {
     "data": {
      "text/html": [
       "<div>\n",
       "<style scoped>\n",
       "    .dataframe tbody tr th:only-of-type {\n",
       "        vertical-align: middle;\n",
       "    }\n",
       "\n",
       "    .dataframe tbody tr th {\n",
       "        vertical-align: top;\n",
       "    }\n",
       "\n",
       "    .dataframe thead th {\n",
       "        text-align: right;\n",
       "    }\n",
       "</style>\n",
       "<table border=\"1\" class=\"dataframe\">\n",
       "  <thead>\n",
       "    <tr style=\"text-align: right;\">\n",
       "      <th></th>\n",
       "      <th>Day</th>\n",
       "      <th>Cases_Guinea</th>\n",
       "      <th>Cases_Liberia</th>\n",
       "      <th>Cases_SierraLeone</th>\n",
       "    </tr>\n",
       "    <tr>\n",
       "      <th>Date</th>\n",
       "      <th></th>\n",
       "      <th></th>\n",
       "      <th></th>\n",
       "      <th></th>\n",
       "    </tr>\n",
       "  </thead>\n",
       "  <tbody>\n",
       "    <tr>\n",
       "      <th>2014-03-23</th>\n",
       "      <td>0.000000</td>\n",
       "      <td>49.000000</td>\n",
       "      <td>0.000000</td>\n",
       "      <td>0.000000</td>\n",
       "    </tr>\n",
       "    <tr>\n",
       "      <th>2014-03-24</th>\n",
       "      <td>6.471642</td>\n",
       "      <td>214.791205</td>\n",
       "      <td>5.272938</td>\n",
       "      <td>2.300126</td>\n",
       "    </tr>\n",
       "    <tr>\n",
       "      <th>2014-03-25</th>\n",
       "      <td>11.909906</td>\n",
       "      <td>345.126619</td>\n",
       "      <td>9.314047</td>\n",
       "      <td>4.183833</td>\n",
       "    </tr>\n",
       "    <tr>\n",
       "      <th>2014-03-26</th>\n",
       "      <td>16.411653</td>\n",
       "      <td>443.436368</td>\n",
       "      <td>12.322352</td>\n",
       "      <td>5.652195</td>\n",
       "    </tr>\n",
       "    <tr>\n",
       "      <th>2014-03-27</th>\n",
       "      <td>20.074365</td>\n",
       "      <td>513.149832</td>\n",
       "      <td>14.496315</td>\n",
       "      <td>6.744835</td>\n",
       "    </tr>\n",
       "    <tr>\n",
       "      <th>2014-03-28</th>\n",
       "      <td>22.995526</td>\n",
       "      <td>557.696387</td>\n",
       "      <td>16.034396</td>\n",
       "      <td>7.501377</td>\n",
       "    </tr>\n",
       "    <tr>\n",
       "      <th>2014-03-29</th>\n",
       "      <td>25.272618</td>\n",
       "      <td>580.505411</td>\n",
       "      <td>17.135056</td>\n",
       "      <td>7.961446</td>\n",
       "    </tr>\n",
       "    <tr>\n",
       "      <th>2014-03-30</th>\n",
       "      <td>27.000000</td>\n",
       "      <td>585.000000</td>\n",
       "      <td>18.000000</td>\n",
       "      <td>8.000000</td>\n",
       "    </tr>\n",
       "    <tr>\n",
       "      <th>2014-03-31</th>\n",
       "      <td>28.284531</td>\n",
       "      <td>574.628380</td>\n",
       "      <td>18.817960</td>\n",
       "      <td>8.150660</td>\n",
       "    </tr>\n",
       "    <tr>\n",
       "      <th>2014-04-01</th>\n",
       "      <td>29.214318</td>\n",
       "      <td>552.801079</td>\n",
       "      <td>19.797125</td>\n",
       "      <td>7.959053</td>\n",
       "    </tr>\n",
       "  </tbody>\n",
       "</table>\n",
       "</div>"
      ],
      "text/plain": [
       "                  Day  Cases_Guinea  Cases_Liberia  Cases_SierraLeone\n",
       "Date                                                                 \n",
       "2014-03-23   0.000000     49.000000       0.000000           0.000000\n",
       "2014-03-24   6.471642    214.791205       5.272938           2.300126\n",
       "2014-03-25  11.909906    345.126619       9.314047           4.183833\n",
       "2014-03-26  16.411653    443.436368      12.322352           5.652195\n",
       "2014-03-27  20.074365    513.149832      14.496315           6.744835\n",
       "2014-03-28  22.995526    557.696387      16.034396           7.501377\n",
       "2014-03-29  25.272618    580.505411      17.135056           7.961446\n",
       "2014-03-30  27.000000    585.000000      18.000000           8.000000\n",
       "2014-03-31  28.284531    574.628380      18.817960           8.150660\n",
       "2014-04-01  29.214318    552.801079      19.797125           7.959053"
      ]
     },
     "execution_count": 118,
     "metadata": {},
     "output_type": "execute_result"
    }
   ],
   "source": [
    "pol_upDay = upDay.interpolate(method='spline', order=3) # 스플라인 보간 방법으로 보간 실행\n",
    "\n",
    "pol_upDay.iloc[:10, :4]"
   ]
  },
  {
   "cell_type": "code",
   "execution_count": null,
   "id": "08de267e-26a5-4c4e-8690-a9807117d6c4",
   "metadata": {},
   "outputs": [],
   "source": []
  }
 ],
 "metadata": {
  "kernelspec": {
   "display_name": "python3.12",
   "language": "python",
   "name": "python3"
  },
  "language_info": {
   "codemirror_mode": {
    "name": "ipython",
    "version": 3
   },
   "file_extension": ".py",
   "mimetype": "text/x-python",
   "name": "python",
   "nbconvert_exporter": "python",
   "pygments_lexer": "ipython3",
   "version": "3.12.7"
  },
  "toc": {
   "base_numbering": 1,
   "nav_menu": {},
   "number_sections": false,
   "sideBar": false,
   "skip_h1_title": false,
   "title_cell": "Table of Contents",
   "title_sidebar": "Contents",
   "toc_cell": false,
   "toc_position": {
    "height": "1098px",
    "left": "915.867px",
    "top": "138.233px",
    "width": "255.467px"
   },
   "toc_section_display": true,
   "toc_window_display": true
  }
 },
 "nbformat": 4,
 "nbformat_minor": 5
}

{
 "cells": [
  {
   "cell_type": "markdown",
   "metadata": {},
   "source": [
    "## 기초데이터과학 (01분반) \n",
    "\n",
    "## Programming assignment 01"
   ]
  },
  {
   "cell_type": "markdown",
   "metadata": {},
   "source": [
    "### 1. numpy를 사용하여 정수값을 갖는 4x4 배열에서 최대값의 위치(좌표)와 최소값의 위치(좌표)를 출력하는 코드를 작성하시오."
   ]
  },
  {
   "cell_type": "code",
   "execution_count": 2,
   "metadata": {},
   "outputs": [
    {
     "name": "stdout",
     "output_type": "stream",
     "text": [
      "최대값 인덱스: 9\n",
      "4x4 배열에서의 최대값 위치: (2, 1)\n",
      "최소값 인덱스: 0\n",
      "4x4 배열에서의 최소값 위치: (0, 0)\n"
     ]
    }
   ],
   "source": [
    "import numpy as np\n",
    "\n",
    "# 4x4 배열 생성\n",
    "arr = np.array([[10, 15, 30, 40],\n",
    "                [50, 60, 70, 80],\n",
    "                [90, 95, 85, 75],\n",
    "                [65, 55, 45, 35]])\n",
    "\n",
    "# 최대값, 최소값의 인덱스 - numpy의 argmax, argmin 함수 사용\n",
    "\n",
    "\n",
    "# argmax, argmin 함수의 결과로 나온 인덱스를 4x4 배열에서의 위치로 변환 - numpy의 unravel_index 함수 사용\n",
    "# unravel_index 함수 사용법은 검색하여 각자 찾아서 해볼 것\n",
    "\n",
    "\n",
    "# 결과 출력\n",
    "\n",
    "\n",
    "##### 아래의 출력처럼 결과가 나와야 함 #####"
   ]
  },
  {
   "cell_type": "markdown",
   "metadata": {},
   "source": [
    "### 2. 1부터 50까지의 숫자를 가진 numpy 배열을 생성하고, 그 배열에서 짝수만 추출하여 출력하는 코드를 작성하시오."
   ]
  },
  {
   "cell_type": "code",
   "execution_count": 7,
   "metadata": {},
   "outputs": [
    {
     "name": "stdout",
     "output_type": "stream",
     "text": [
      "[False  True False  True False  True False  True False  True False  True\n",
      " False  True False  True False  True False  True False  True False  True\n",
      " False  True False  True False  True False  True False  True False  True\n",
      " False  True False  True False  True False  True False  True False  True\n",
      " False  True]\n",
      "25\n",
      "[ 2  4  6  8 10 12 14 16 18 20 22 24 26 28 30 32 34 36 38 40 42 44 46 48\n",
      " 50]\n"
     ]
    }
   ],
   "source": [
    "import numpy as np\n",
    "\n",
    "# 1부터 50까지의 숫자를 가진 numpy 배열 생성\n",
    "\n",
    "\n",
    "# 위 배열에서 짝수인 것은 True, 홀수인 것은 False 값을 갖도록 하여 출력\n",
    "\n",
    "\n",
    "# 위 배열에서 짝수인 것의 개수 출력\n",
    "\n",
    "\n",
    "\n",
    "# 짝수만 추출 - 배열에 조건식을 사용하는 방법으로 짝수만 포함하는 배열 생성\n",
    "\n",
    "\n",
    "# 짝수만 추출한 결과 출력\n",
    "\n",
    "\n",
    "##### 아래의 출력처럼 결과가 나와야 함 #####"
   ]
  },
  {
   "cell_type": "markdown",
   "metadata": {},
   "source": [
    "### 3. 1부터 10까지 정수 중 임의의 정수를 원소로 갖는 3x3 numpy 배열을 생성하고 배열 내에서 값이 1인 원소의 위치를 찾는 코드를 작성하시오."
   ]
  },
  {
   "cell_type": "code",
   "execution_count": 4,
   "metadata": {},
   "outputs": [
    {
     "name": "stdout",
     "output_type": "stream",
     "text": [
      "[[1 4 3]\n",
      " [8 5 2]\n",
      " [7 6 7]]\n",
      "값이 1인 원소의 위치: [[0 0]]\n"
     ]
    }
   ],
   "source": [
    "import numpy as np\n",
    "\n",
    "# 1부터 10까지 임의의 정수값을 갖는 3x3 numpy 배열 생성 - random.randint 함수 사용\n",
    "# numpy의 random.randint 함수 사용법은 검색하여 각자 찾아서 해볼 것\n",
    "\n",
    "\n",
    "# 위에서 생성한 배열 출력\n",
    "\n",
    "\n",
    "# 값이 1인 원소의 위치 찾기 - argwhere 함수 사용\n",
    "# numpy의 argwhere 함수 사용법은 검색하여 각자 찾아서 해볼 것\n",
    "\n",
    "\n",
    "# 결과 출력\n",
    "\n",
    "\n",
    "##### 랜덤 값을 갖는 배열을 생성하기 때문에 아래의 출력과 동일하게 나오지 않을 수 있음 #####"
   ]
  },
  {
   "cell_type": "markdown",
   "metadata": {},
   "source": [
    "### 4. 평균 0, 표준편차 1인 정규분포를 따르는 10,000개의 숫자를 포함하는 배열을 생성하고, 그 배열의 평균과 표준편차를 계산하는 코드를 작성하시오."
   ]
  },
  {
   "cell_type": "code",
   "execution_count": 23,
   "metadata": {},
   "outputs": [
    {
     "name": "stdout",
     "output_type": "stream",
     "text": [
      "배열의 평균: -0.020341665245895497\n",
      "배열의 표준편차: 1.012086858767097\n"
     ]
    }
   ],
   "source": [
    "import numpy as np\n",
    "\n",
    "# 평균 0, 표준편차 1인 정규분포로 이루어진 10,000개의 숫자를 포함하는 1차원 배열 생성 \n",
    "# numpy의 random.randn 함수 또는 random.normal 함수 사용\n",
    "\n",
    "\n",
    "# 배열의 평균과 표준편차 계산\n",
    "\n",
    "\n",
    "# 결과 출력\n",
    "\n",
    "\n",
    "##### 랜덤 값을 갖는 배열을 생성하기 때문에 아래의 출력과 동일하게 나오지 않을 수 있음 #####"
   ]
  },
  {
   "cell_type": "markdown",
   "metadata": {},
   "source": [
    "### 5. 1부터 10까지 임의의 정수를 원소로 갖는 4x4 배열을 랜덤하게 생성한 후, 배열 내에서 8보다 큰 원소의 개수와 3보다 작은 원소의 개수를 출력하는 코드를 작성하시오."
   ]
  },
  {
   "cell_type": "code",
   "execution_count": 28,
   "metadata": {},
   "outputs": [
    {
     "name": "stdout",
     "output_type": "stream",
     "text": [
      "[[3 9 2 3]\n",
      " [2 6 9 2]\n",
      " [5 9 1 8]\n",
      " [9 3 3 1]]\n",
      "8보다 큰 원소의 개수: 4\n",
      "3보다 작은 원소의 개수: 5\n"
     ]
    }
   ],
   "source": [
    "import numpy as np\n",
    "\n",
    "# 1부터 10까지 임의의 정수값을 갖는 4x4 numpy 배열 생성 - random.randint 함수 사용\n",
    "\n",
    "\n",
    "# 생성된 배열 출력\n",
    "\n",
    "\n",
    "# 8보다 큰 원소의 개수 출력\n",
    "\n",
    "\n",
    "# 3보다 작은 원소의 개수 출력\n",
    "\n",
    "\n",
    "##### 랜덤 값을 갖는 배열을 생성하기 때문에 아래의 출력과 동일하게 나오지 않을 수 있음 #####"
   ]
  },
  {
   "cell_type": "code",
   "execution_count": null,
   "metadata": {},
   "outputs": [],
   "source": []
  }
 ],
 "metadata": {
  "kernelspec": {
   "display_name": "Python 3",
   "language": "python",
   "name": "python3"
  },
  "language_info": {
   "codemirror_mode": {
    "name": "ipython",
    "version": 3
   },
   "file_extension": ".py",
   "mimetype": "text/x-python",
   "name": "python",
   "nbconvert_exporter": "python",
   "pygments_lexer": "ipython3",
   "version": "3.6.10"
  }
 },
 "nbformat": 4,
 "nbformat_minor": 4
}
